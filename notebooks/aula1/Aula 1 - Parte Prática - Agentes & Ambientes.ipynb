{
 "cells": [
  {
   "cell_type": "markdown",
   "metadata": {},
   "source": [
    "# Aula 1 - Parte Prática - Agentes & Ambientes"
   ]
  },
  {
   "cell_type": "markdown",
   "metadata": {},
   "source": [
    "## Introdução\n",
    "\n",
    "Nesse primeiro notebook iremos aprender sobre a API do [OpenAI Gym](http://gym.openai.com/) e começaremos a implementar alguns componentes de um agente de RL.\n",
    "Ao final dessa parte prática teremos implementado o **ciclo de interação Agente-Ambiente** que nos permitirá futuramente treinar o agente e avaliar sua performance.\n",
    "\n",
    "<img src=\"img/agent-env-loop.png\" alt=\"Agent-Env Loop\" style=\"width: 450px;\"/>\n",
    "\n",
    "\n",
    "### Objetivos:\n",
    "\n",
    "- Relacionar os conceitos de Processos de Decisão Markovianos (MDPs) com os atributos e métodos de um ambiente definido com o OpenAI Gym;\n",
    "- Familiarizar-se com os componentes básicos de um agente de RL;\n",
    "- Implementar o ciclo de interação Agente-Ambiente; e\n",
    "- Implementar um primeiro agente aleatório e avaliar sua performance"
   ]
  },
  {
   "attachments": {
    "7bd90a2f-0232-48c8-8758-99d405f4544d.png": {
     "image/png": "[encoded data removed]"
    }
   },
   "cell_type": "markdown",
   "metadata": {},
   "source": [
    "### Instalação\n",
    "É necessário rodar a célula abaixo apenas uma vez para instalar as dependências do notebook. **Atenção**: reinicie o kernel depois de rodar a célula abaixo clicando em <img src=\"attachment:7bd90a2f-0232-48c8-8758-99d405f4544d.png\" width=30> acima"
   ]
  },
  {
   "cell_type": "code",
   "execution_count": 60,
   "metadata": {},
   "outputs": [
    {
     "output_type": "stream",
     "name": "stdout",
     "text": [
      "Requirement already satisfied: pip in /home/gui/learning/curso-verao-rl-ime-2021/lib/python3.7/site-packages (21.0.1)\n",
      "Requirement already satisfied: setuptools in /home/gui/learning/curso-verao-rl-ime-2021/lib/python3.7/site-packages (53.0.0)\n",
      "Obtaining gym from git+https://github.com/openai/gym.git@master#egg=gym\n",
      "  Updating /home/gui/learning/curso-verao-rl-ime-2021/src/gym clone (to revision master)\n",
      "  Running command git fetch -q --tags\n",
      "  Running command git reset --hard -q 8a721ace460cbaf8c3e6c03c12d06c616fd6e1e8\n",
      "Requirement already satisfied: scipy in /home/gui/learning/curso-verao-rl-ime-2021/lib/python3.7/site-packages (from gym) (1.6.0)\n",
      "Requirement already satisfied: numpy>=1.10.4 in /home/gui/learning/curso-verao-rl-ime-2021/lib/python3.7/site-packages (from gym) (1.20.0)\n",
      "Requirement already satisfied: pyglet<=1.5.0,>=1.4.0 in /home/gui/learning/curso-verao-rl-ime-2021/lib/python3.7/site-packages (from gym) (1.5.0)\n",
      "Requirement already satisfied: Pillow<=7.2.0 in /home/gui/learning/curso-verao-rl-ime-2021/lib/python3.7/site-packages (from gym) (7.2.0)\n",
      "Requirement already satisfied: cloudpickle<1.7.0,>=1.2.0 in /home/gui/learning/curso-verao-rl-ime-2021/lib/python3.7/site-packages (from gym) (1.6.0)\n",
      "Requirement already satisfied: future in /home/gui/learning/curso-verao-rl-ime-2021/lib/python3.7/site-packages (from pyglet<=1.5.0,>=1.4.0->gym) (0.18.2)\n",
      "Installing collected packages: gym\n",
      "  Attempting uninstall: gym\n",
      "    Found existing installation: gym 0.18.0\n",
      "    Uninstalling gym-0.18.0:\n",
      "      Successfully uninstalled gym-0.18.0\n",
      "  Running setup.py develop for gym\n",
      "Successfully installed gym\n",
      "Requirement already satisfied: bokeh in /home/gui/learning/curso-verao-rl-ime-2021/lib/python3.7/site-packages (2.2.3)\n",
      "Requirement already satisfied: jupyter_bokeh in /home/gui/learning/curso-verao-rl-ime-2021/lib/python3.7/site-packages (2.0.4)\n",
      "Requirement already satisfied: typing-extensions>=3.7.4 in /home/gui/learning/curso-verao-rl-ime-2021/lib/python3.7/site-packages (from bokeh) (3.7.4.3)\n",
      "Requirement already satisfied: pillow>=7.1.0 in /home/gui/learning/curso-verao-rl-ime-2021/lib/python3.7/site-packages (from bokeh) (7.2.0)\n",
      "Requirement already satisfied: numpy>=1.11.3 in /home/gui/learning/curso-verao-rl-ime-2021/lib/python3.7/site-packages (from bokeh) (1.20.0)\n",
      "Requirement already satisfied: python-dateutil>=2.1 in /home/gui/learning/curso-verao-rl-ime-2021/lib/python3.7/site-packages (from bokeh) (2.8.1)\n",
      "Requirement already satisfied: packaging>=16.8 in /home/gui/learning/curso-verao-rl-ime-2021/lib/python3.7/site-packages (from bokeh) (20.9)\n",
      "Requirement already satisfied: Jinja2>=2.7 in /home/gui/learning/curso-verao-rl-ime-2021/lib/python3.7/site-packages (from bokeh) (2.11.3)\n",
      "Requirement already satisfied: tornado>=5.1 in /home/gui/learning/curso-verao-rl-ime-2021/lib/python3.7/site-packages (from bokeh) (6.1)\n",
      "Requirement already satisfied: PyYAML>=3.10 in /home/gui/learning/curso-verao-rl-ime-2021/lib/python3.7/site-packages (from bokeh) (5.4.1)\n",
      "Requirement already satisfied: MarkupSafe>=0.23 in /home/gui/learning/curso-verao-rl-ime-2021/lib/python3.7/site-packages (from Jinja2>=2.7->bokeh) (1.1.1)\n",
      "Requirement already satisfied: pyparsing>=2.0.2 in /home/gui/learning/curso-verao-rl-ime-2021/lib/python3.7/site-packages (from packaging>=16.8->bokeh) (2.4.7)\n",
      "Requirement already satisfied: six>=1.5 in /home/gui/learning/curso-verao-rl-ime-2021/lib/python3.7/site-packages (from python-dateutil>=2.1->bokeh) (1.15.0)\n",
      "Requirement already satisfied: ipywidgets>=7.5.0 in /home/gui/learning/curso-verao-rl-ime-2021/lib/python3.7/site-packages (from jupyter_bokeh) (7.6.3)\n",
      "Requirement already satisfied: traitlets>=4.3.1 in /home/gui/learning/curso-verao-rl-ime-2021/lib/python3.7/site-packages (from ipywidgets>=7.5.0->jupyter_bokeh) (5.0.5)\n",
      "Requirement already satisfied: ipython>=4.0.0 in /home/gui/learning/curso-verao-rl-ime-2021/lib/python3.7/site-packages (from ipywidgets>=7.5.0->jupyter_bokeh) (7.20.0)\n",
      "Requirement already satisfied: widgetsnbextension~=3.5.0 in /home/gui/learning/curso-verao-rl-ime-2021/lib/python3.7/site-packages (from ipywidgets>=7.5.0->jupyter_bokeh) (3.5.1)\n",
      "Requirement already satisfied: nbformat>=4.2.0 in /home/gui/learning/curso-verao-rl-ime-2021/lib/python3.7/site-packages (from ipywidgets>=7.5.0->jupyter_bokeh) (5.1.2)\n",
      "Requirement already satisfied: jupyterlab-widgets>=1.0.0 in /home/gui/learning/curso-verao-rl-ime-2021/lib/python3.7/site-packages (from ipywidgets>=7.5.0->jupyter_bokeh) (1.0.0)\n",
      "Requirement already satisfied: ipykernel>=4.5.1 in /home/gui/learning/curso-verao-rl-ime-2021/lib/python3.7/site-packages (from ipywidgets>=7.5.0->jupyter_bokeh) (5.4.3)\n",
      "Requirement already satisfied: jupyter-client in /home/gui/learning/curso-verao-rl-ime-2021/lib/python3.7/site-packages (from ipykernel>=4.5.1->ipywidgets>=7.5.0->jupyter_bokeh) (6.1.11)\n",
      "Requirement already satisfied: pickleshare in /home/gui/learning/curso-verao-rl-ime-2021/lib/python3.7/site-packages (from ipython>=4.0.0->ipywidgets>=7.5.0->jupyter_bokeh) (0.7.5)\n",
      "Requirement already satisfied: setuptools>=18.5 in /home/gui/learning/curso-verao-rl-ime-2021/lib/python3.7/site-packages (from ipython>=4.0.0->ipywidgets>=7.5.0->jupyter_bokeh) (53.0.0)\n",
      "Requirement already satisfied: pygments in /home/gui/learning/curso-verao-rl-ime-2021/lib/python3.7/site-packages (from ipython>=4.0.0->ipywidgets>=7.5.0->jupyter_bokeh) (2.7.4)\n",
      "Requirement already satisfied: prompt-toolkit!=3.0.0,!=3.0.1,<3.1.0,>=2.0.0 in /home/gui/learning/curso-verao-rl-ime-2021/lib/python3.7/site-packages (from ipython>=4.0.0->ipywidgets>=7.5.0->jupyter_bokeh) (3.0.14)\n",
      "Requirement already satisfied: jedi>=0.16 in /home/gui/learning/curso-verao-rl-ime-2021/lib/python3.7/site-packages (from ipython>=4.0.0->ipywidgets>=7.5.0->jupyter_bokeh) (0.18.0)\n",
      "Requirement already satisfied: decorator in /home/gui/learning/curso-verao-rl-ime-2021/lib/python3.7/site-packages (from ipython>=4.0.0->ipywidgets>=7.5.0->jupyter_bokeh) (4.4.2)\n",
      "Requirement already satisfied: backcall in /home/gui/learning/curso-verao-rl-ime-2021/lib/python3.7/site-packages (from ipython>=4.0.0->ipywidgets>=7.5.0->jupyter_bokeh) (0.2.0)\n",
      "Requirement already satisfied: pexpect>4.3 in /home/gui/learning/curso-verao-rl-ime-2021/lib/python3.7/site-packages (from ipython>=4.0.0->ipywidgets>=7.5.0->jupyter_bokeh) (4.8.0)\n",
      "Requirement already satisfied: parso<0.9.0,>=0.8.0 in /home/gui/learning/curso-verao-rl-ime-2021/lib/python3.7/site-packages (from jedi>=0.16->ipython>=4.0.0->ipywidgets>=7.5.0->jupyter_bokeh) (0.8.1)\n",
      "Requirement already satisfied: ipython-genutils in /home/gui/learning/curso-verao-rl-ime-2021/lib/python3.7/site-packages (from nbformat>=4.2.0->ipywidgets>=7.5.0->jupyter_bokeh) (0.2.0)\n",
      "Requirement already satisfied: jsonschema!=2.5.0,>=2.4 in /home/gui/learning/curso-verao-rl-ime-2021/lib/python3.7/site-packages (from nbformat>=4.2.0->ipywidgets>=7.5.0->jupyter_bokeh) (3.2.0)\n",
      "Requirement already satisfied: jupyter-core in /home/gui/learning/curso-verao-rl-ime-2021/lib/python3.7/site-packages (from nbformat>=4.2.0->ipywidgets>=7.5.0->jupyter_bokeh) (4.7.1)\n",
      "Requirement already satisfied: importlib-metadata in /home/gui/learning/curso-verao-rl-ime-2021/lib/python3.7/site-packages (from jsonschema!=2.5.0,>=2.4->nbformat>=4.2.0->ipywidgets>=7.5.0->jupyter_bokeh) (3.4.0)\n",
      "Requirement already satisfied: pyrsistent>=0.14.0 in /home/gui/learning/curso-verao-rl-ime-2021/lib/python3.7/site-packages (from jsonschema!=2.5.0,>=2.4->nbformat>=4.2.0->ipywidgets>=7.5.0->jupyter_bokeh) (0.17.3)\n",
      "Requirement already satisfied: attrs>=17.4.0 in /home/gui/learning/curso-verao-rl-ime-2021/lib/python3.7/site-packages (from jsonschema!=2.5.0,>=2.4->nbformat>=4.2.0->ipywidgets>=7.5.0->jupyter_bokeh) (20.3.0)\n",
      "Requirement already satisfied: ptyprocess>=0.5 in /home/gui/learning/curso-verao-rl-ime-2021/lib/python3.7/site-packages (from pexpect>4.3->ipython>=4.0.0->ipywidgets>=7.5.0->jupyter_bokeh) (0.7.0)\n",
      "Requirement already satisfied: wcwidth in /home/gui/learning/curso-verao-rl-ime-2021/lib/python3.7/site-packages (from prompt-toolkit!=3.0.0,!=3.0.1,<3.1.0,>=2.0.0->ipython>=4.0.0->ipywidgets>=7.5.0->jupyter_bokeh) (0.2.5)\n",
      "Requirement already satisfied: notebook>=4.4.1 in /home/gui/learning/curso-verao-rl-ime-2021/lib/python3.7/site-packages (from widgetsnbextension~=3.5.0->ipywidgets>=7.5.0->jupyter_bokeh) (6.2.0)\n",
      "Requirement already satisfied: prometheus-client in /home/gui/learning/curso-verao-rl-ime-2021/lib/python3.7/site-packages (from notebook>=4.4.1->widgetsnbextension~=3.5.0->ipywidgets>=7.5.0->jupyter_bokeh) (0.9.0)\n",
      "Requirement already satisfied: terminado>=0.8.3 in /home/gui/learning/curso-verao-rl-ime-2021/lib/python3.7/site-packages (from notebook>=4.4.1->widgetsnbextension~=3.5.0->ipywidgets>=7.5.0->jupyter_bokeh) (0.9.2)\n",
      "Requirement already satisfied: Send2Trash>=1.5.0 in /home/gui/learning/curso-verao-rl-ime-2021/lib/python3.7/site-packages (from notebook>=4.4.1->widgetsnbextension~=3.5.0->ipywidgets>=7.5.0->jupyter_bokeh) (1.5.0)\n",
      "Requirement already satisfied: pyzmq>=17 in /home/gui/learning/curso-verao-rl-ime-2021/lib/python3.7/site-packages (from notebook>=4.4.1->widgetsnbextension~=3.5.0->ipywidgets>=7.5.0->jupyter_bokeh) (22.0.2)\n",
      "Requirement already satisfied: nbconvert in /home/gui/learning/curso-verao-rl-ime-2021/lib/python3.7/site-packages (from notebook>=4.4.1->widgetsnbextension~=3.5.0->ipywidgets>=7.5.0->jupyter_bokeh) (6.0.7)\n",
      "Requirement already satisfied: argon2-cffi in /home/gui/learning/curso-verao-rl-ime-2021/lib/python3.7/site-packages (from notebook>=4.4.1->widgetsnbextension~=3.5.0->ipywidgets>=7.5.0->jupyter_bokeh) (20.1.0)\n",
      "Requirement already satisfied: cffi>=1.0.0 in /home/gui/learning/curso-verao-rl-ime-2021/lib/python3.7/site-packages (from argon2-cffi->notebook>=4.4.1->widgetsnbextension~=3.5.0->ipywidgets>=7.5.0->jupyter_bokeh) (1.14.4)\n",
      "Requirement already satisfied: pycparser in /home/gui/learning/curso-verao-rl-ime-2021/lib/python3.7/site-packages (from cffi>=1.0.0->argon2-cffi->notebook>=4.4.1->widgetsnbextension~=3.5.0->ipywidgets>=7.5.0->jupyter_bokeh) (2.20)\n",
      "Requirement already satisfied: zipp>=0.5 in /home/gui/learning/curso-verao-rl-ime-2021/lib/python3.7/site-packages (from importlib-metadata->jsonschema!=2.5.0,>=2.4->nbformat>=4.2.0->ipywidgets>=7.5.0->jupyter_bokeh) (3.4.0)\n",
      "Requirement already satisfied: mistune<2,>=0.8.1 in /home/gui/learning/curso-verao-rl-ime-2021/lib/python3.7/site-packages (from nbconvert->notebook>=4.4.1->widgetsnbextension~=3.5.0->ipywidgets>=7.5.0->jupyter_bokeh) (0.8.4)\n",
      "Requirement already satisfied: entrypoints>=0.2.2 in /home/gui/learning/curso-verao-rl-ime-2021/lib/python3.7/site-packages (from nbconvert->notebook>=4.4.1->widgetsnbextension~=3.5.0->ipywidgets>=7.5.0->jupyter_bokeh) (0.3)\n",
      "Requirement already satisfied: bleach in /home/gui/learning/curso-verao-rl-ime-2021/lib/python3.7/site-packages (from nbconvert->notebook>=4.4.1->widgetsnbextension~=3.5.0->ipywidgets>=7.5.0->jupyter_bokeh) (3.3.0)\n",
      "Requirement already satisfied: defusedxml in /home/gui/learning/curso-verao-rl-ime-2021/lib/python3.7/site-packages (from nbconvert->notebook>=4.4.1->widgetsnbextension~=3.5.0->ipywidgets>=7.5.0->jupyter_bokeh) (0.6.0)\n",
      "Requirement already satisfied: pandocfilters>=1.4.1 in /home/gui/learning/curso-verao-rl-ime-2021/lib/python3.7/site-packages (from nbconvert->notebook>=4.4.1->widgetsnbextension~=3.5.0->ipywidgets>=7.5.0->jupyter_bokeh) (1.4.3)\n",
      "Requirement already satisfied: nbclient<0.6.0,>=0.5.0 in /home/gui/learning/curso-verao-rl-ime-2021/lib/python3.7/site-packages (from nbconvert->notebook>=4.4.1->widgetsnbextension~=3.5.0->ipywidgets>=7.5.0->jupyter_bokeh) (0.5.1)\n",
      "Requirement already satisfied: jupyterlab-pygments in /home/gui/learning/curso-verao-rl-ime-2021/lib/python3.7/site-packages (from nbconvert->notebook>=4.4.1->widgetsnbextension~=3.5.0->ipywidgets>=7.5.0->jupyter_bokeh) (0.1.2)\n",
      "Requirement already satisfied: testpath in /home/gui/learning/curso-verao-rl-ime-2021/lib/python3.7/site-packages (from nbconvert->notebook>=4.4.1->widgetsnbextension~=3.5.0->ipywidgets>=7.5.0->jupyter_bokeh) (0.4.4)\n",
      "Requirement already satisfied: nest-asyncio in /home/gui/learning/curso-verao-rl-ime-2021/lib/python3.7/site-packages (from nbclient<0.6.0,>=0.5.0->nbconvert->notebook>=4.4.1->widgetsnbextension~=3.5.0->ipywidgets>=7.5.0->jupyter_bokeh) (1.5.1)\n",
      "Requirement already satisfied: async-generator in /home/gui/learning/curso-verao-rl-ime-2021/lib/python3.7/site-packages (from nbclient<0.6.0,>=0.5.0->nbconvert->notebook>=4.4.1->widgetsnbextension~=3.5.0->ipywidgets>=7.5.0->jupyter_bokeh) (1.10)\n",
      "Requirement already satisfied: webencodings in /home/gui/learning/curso-verao-rl-ime-2021/lib/python3.7/site-packages (from bleach->nbconvert->notebook>=4.4.1->widgetsnbextension~=3.5.0->ipywidgets>=7.5.0->jupyter_bokeh) (0.5.1)\n"
     ]
    }
   ],
   "source": [
    "# atualizar pip\n",
    "!pip install -U pip setuptools\n",
    "\n",
    "# instalar OpenAI gym do branch master ===> IMPORTANTE!\n",
    "!pip install -e git+https://github.com/openai/gym.git@master#egg=gym\n",
    "\n",
    "# Bokeh vizualization (maiores detalhes em github.com/bokeh/jupyter_bokeh)\n",
    "!pip install bokeh jupyter_bokeh"
   ]
  },
  {
   "cell_type": "markdown",
   "metadata": {},
   "source": [
    "### Imports\n",
    "\n",
    "> **Atenção:** não se esqueça de executar todos os `imports` necessários antes prosseguir com o tutorial. "
   ]
  },
  {
   "cell_type": "code",
   "execution_count": 62,
   "metadata": {},
   "outputs": [],
   "source": [
    "import abc\n",
    "import random\n",
    "\n",
    "import gym\n",
    "\n",
    "from utils.viz.viz_data_collection import plot_action_distribution, plot_episode_total_rewards"
   ]
  },
  {
   "cell_type": "markdown",
   "metadata": {},
   "source": [
    "## 1. Ambientes no OpenAI Gym\n",
    "\n",
    "Um ambiente no OpenAI Gym encapsula um simulador com o qual um agente pode interagir. Nesse simulador, a cada instante $t$ o agente deve escolhar uma ação $\\mathbf{a}_t \\in \\mathcal{A}$ a ser executada. Ao receber essa ação, o ambiente tem seu estado $\\mathbf{s}_t \\in \\mathcal{S}$ alterado para outro estado $\\mathbf{s}_{t+1} \\in \\mathcal{S}$ e devolve para o agente uma observação (que pode ou não corresponder ao estado) e uma recompensa/punição $r_{t+1} \\in \\mathbb{R}$.\n",
    "\n",
    "O pacote Gym conta com inúmeros [ambientes pré-programados](http://gym.openai.com/envs/) e prontos para serem usados para testar algoritmos de RL. Nessa parte prática, começaremos a explorar alguns ambientes mais simples a fim de nos familiarizarmos com os principais conceitos de modelagem da biblioteca Gym."
   ]
  },
  {
   "cell_type": "markdown",
   "metadata": {},
   "source": [
    "Para carregar um ambiente disponível no Gym basta chamar a função `gym.make` passando como argumento o identificador do ambiente:"
   ]
  },
  {
   "cell_type": "code",
   "execution_count": 64,
   "metadata": {},
   "outputs": [],
   "source": [
    "env = gym.make(\"MountainCar-v0\")"
   ]
  },
  {
   "cell_type": "markdown",
   "metadata": {},
   "source": [
    "> **Atenção**: antes de usar um ambiente do Gym com o qual você não está familiarizado pode ser útil ler a sua documentação online.\n",
    "> Para o `MountainCar-v0` acesse o link [http://gym.openai.com/envs/MountainCar-v0/](http://gym.openai.com/envs/MountainCar-v0/)."
   ]
  },
  {
   "cell_type": "markdown",
   "metadata": {},
   "source": [
    "Informações adicionais sobre o ambiente/simulador podem ser obtidas accessando o atributo `env.spec`. Embora não seja obrigatório, muitos ambientes do OpenAI Gym definem  metadados importantes relacionados à tarefa de RL. Em particular, `env.spec.max_episode_steps` define o número máximo de passos de decisão que um agente pode tomar em um episódio (i.e., o tamanho máximo de uma trajetória) e `env.spec.reward_threshold` define o valor mínimo de retorno (i.e., recompensa total) de um episódio para o qual a tarefa é considerada resolvida."
   ]
  },
  {
   "cell_type": "code",
   "execution_count": 66,
   "metadata": {},
   "outputs": [
    {
     "output_type": "stream",
     "name": "stdout",
     "text": [
      "MAX_EPISODE_STEPS = 200\nREWARD THRESHOLD = -110.0\n"
     ]
    }
   ],
   "source": [
    "print(f\"MAX_EPISODE_STEPS = {env.spec.max_episode_steps}\")\n",
    "print(f\"REWARD THRESHOLD = {env.spec.reward_threshold}\")"
   ]
  },
  {
   "cell_type": "markdown",
   "metadata": {},
   "source": [
    "### 1.1. Espaço de estados e ações\n",
    "\n",
    "Todo agente de RL deve conhecer quais ações pode tomar no ambiente e também quais as características das variáveis de observações que aquele ambiente lhe disponibiliza. Para acessar o espaço de estados e ações, um ambiente do gym disponibiliza os atributos `env.observation_space` e `env.action_space`, respectivamente.\n",
    "\n",
    "Note que essas informações serão importantes futuramente na definição das entradas e saídas das redes neurais artificiais que utilizaremos para representar a política $\\pi_\\theta$ do agente e também na criação de outros modelos.   "
   ]
  },
  {
   "cell_type": "markdown",
   "metadata": {},
   "source": [
    "Todo `observation_space` tem associado seu tipo numérico (e.g., int, float,...) e as dimensões de uma observação. Além disso, é possível saber se o valor das variáveis observação são limitadas ou não, e se forem limitadas qual o valor mínimo e máximo."
   ]
  },
  {
   "cell_type": "code",
   "execution_count": 68,
   "metadata": {},
   "outputs": [
    {
     "output_type": "stream",
     "name": "stdout",
     "text": [
      "float32\n(2,)\n[ True  True] [0.6  0.07]\n[ True  True] [-1.2  -0.07]\n"
     ]
    }
   ],
   "source": [
    "obs_space = env.observation_space\n",
    "\n",
    "print(obs_space.dtype)\n",
    "print(obs_space.shape)\n",
    "print(obs_space.bounded_above, obs_space.high)\n",
    "print(obs_space.bounded_below, obs_space.low)"
   ]
  },
  {
   "cell_type": "markdown",
   "metadata": {},
   "source": [
    "Para o `MountainCar-v0` note que uma observação correponde a um vetor de números reais de tamanho 2 (i.e., um par de valores em ponto flutuante). Note que a primeira componente do vetor é limitada entre -1.2 e 0.6, e a segunda componente entre -0.07 e 0.07. "
   ]
  },
  {
   "cell_type": "markdown",
   "metadata": {},
   "source": [
    "Analogamente, todo `action_space` tem associado seu tipo numérico e as dimensões de uma ação:"
   ]
  },
  {
   "cell_type": "code",
   "execution_count": 70,
   "metadata": {},
   "outputs": [
    {
     "output_type": "stream",
     "name": "stdout",
     "text": [
      "int64\n()\n3\n"
     ]
    }
   ],
   "source": [
    "action_space = env.action_space\n",
    "\n",
    "print(action_space.dtype)\n",
    "print(action_space.shape)\n",
    "print(action_space.n)"
   ]
  },
  {
   "cell_type": "markdown",
   "metadata": {},
   "source": [
    "Note que para o `MountainCar-v0` o agente deverá escolher ações discretas (i.e., representadas por números inteiros). Observe também que o `shape==()` indica que uma ação é dada por um único escalar (e não um vetor como no caso do `observation_space`. Para acessar o número de possíveis valores da ação basta acessar o atributo `action_space.n`."
   ]
  },
  {
   "cell_type": "markdown",
   "metadata": {},
   "source": [
    "> **Atenção**: em algumas situações pode ser interessante ter acesso à amostras de observações e ações. Você pode usar os métodos `env.observation_space.sample()` e `env.action_space.sample()` para gerar aleatoriamente observações e ações direto do ambiente `env`. "
   ]
  },
  {
   "cell_type": "code",
   "execution_count": 72,
   "metadata": {},
   "outputs": [
    {
     "output_type": "stream",
     "name": "stdout",
     "text": [
      "[array([-0.64009887, -0.01673872], dtype=float32), array([-0.33235228, -0.05541084], dtype=float32), array([-1.1966783 ,  0.00598221], dtype=float32)]\n"
     ]
    }
   ],
   "source": [
    "obs_samples = [env.observation_space.sample() for _ in range(3)]\n",
    "print(obs_samples)"
   ]
  },
  {
   "cell_type": "code",
   "execution_count": 74,
   "metadata": {},
   "outputs": [
    {
     "output_type": "stream",
     "name": "stdout",
     "text": [
      "[0, 2, 1, 0, 0]\n"
     ]
    }
   ],
   "source": [
    "action_samples = [env.action_space.sample() for _ in range(5)]\n",
    "print(action_samples)"
   ]
  },
  {
   "cell_type": "markdown",
   "metadata": {},
   "source": [
    "### 1.2 Interface do Gym: métodos reset, step, render e close\n",
    "\n",
    "Um objeto `env` do Gym fornece 4 métodos principais para interagir com o simulador: \n",
    "1. `reset` permite re-inicialiar o simulador para um de seus estados iniciais;\n",
    "2. `step` se encarrega de executar uma ação no ambiente;\n",
    "3. `render` visualiza graficamente o estado do agente; e\n",
    "4. `close` libera recursos utilizados na simulação (por exemplo fecha a janela de visualização)."
   ]
  },
  {
   "cell_type": "code",
   "execution_count": 76,
   "metadata": {},
   "outputs": [
    {
     "output_type": "stream",
     "name": "stdout",
     "text": [
      "obs 0 = [-0.48099318  0.        ]\n",
      "obs 1 = [-0.43577233  0.        ]\n",
      "obs 2 = [-0.41413213  0.        ]\n",
      "obs 3 = [-0.47648057  0.        ]\n",
      "obs 4 = [-0.59053116  0.        ]\n"
     ]
    }
   ],
   "source": [
    "for i in range(5):\n",
    "    obs = env.reset()\n",
    "    print(f\"obs {i} = {obs}\")"
   ]
  },
  {
   "cell_type": "markdown",
   "metadata": {},
   "source": [
    "Note que a observação do estado inicial muda conforme o método `.reset()` é chamado. Isso se deve ao fato de que o estado inicial é definido como uma variável aleatória regida por uma distribuição inicial."
   ]
  },
  {
   "cell_type": "code",
   "execution_count": 78,
   "metadata": {},
   "outputs": [
    {
     "output_type": "stream",
     "name": "stdout",
     "text": [
      "transition 0 = (1, [-5.42184998e-01  1.40375620e-04], -1.0)\ntransition 1 = (1, [-5.41905298e-01  2.79700071e-04], -1.0)\ntransition 2 = (1, [-5.41488368e-01  4.16929983e-04], -1.0)\ntransition 3 = (1, [-0.54093733  0.00055104], -1.0)\ntransition 4 = (1, [-0.54025631  0.00068102], -1.0)\n"
     ]
    }
   ],
   "source": [
    "obs = env.reset()\n",
    "\n",
    "for i in range(5):\n",
    "    action = env.action_space.sample()\n",
    "    obs, reward, done, info = env.step(action)\n",
    "    print(f\"transition {i} = ({action}, {obs}, {reward})\")"
   ]
  },
  {
   "cell_type": "markdown",
   "metadata": {},
   "source": [
    "> **Atenção**: Você pode se familiarizar com os argumentos e retorno de ambos os métodos através de seus *docstrings* acessados via `?`."
   ]
  },
  {
   "cell_type": "code",
   "execution_count": 80,
   "metadata": {},
   "outputs": [
    {
     "output_type": "stream",
     "text": [
      "\u001b[0;31mSignature:\u001b[0m \u001b[0menv\u001b[0m\u001b[0;34m.\u001b[0m\u001b[0mreset\u001b[0m\u001b[0;34m(\u001b[0m\u001b[0;34m**\u001b[0m\u001b[0mkwargs\u001b[0m\u001b[0;34m)\u001b[0m\u001b[0;34m\u001b[0m\u001b[0;34m\u001b[0m\u001b[0m\n",
      "\u001b[0;31mDocstring:\u001b[0m\n",
      "Resets the environment to an initial state and returns an initial\n",
      "observation.\n",
      "\n",
      "Note that this function should not reset the environment's random\n",
      "number generator(s); random variables in the environment's state should\n",
      "be sampled independently between multiple calls to `reset()`. In other\n",
      "words, each call of `reset()` should yield an environment suitable for\n",
      "a new episode, independent of previous episodes.\n",
      "\n",
      "Returns:\n",
      "    observation (object): the initial observation.\n",
      "\u001b[0;31mFile:\u001b[0m      ~/learning/curso-verao-rl-ime-2021/src/gym/gym/wrappers/time_limit.py\n",
      "\u001b[0;31mType:\u001b[0m      method\n"
     ],
     "name": "stdout"
    }
   ],
   "source": [
    "env.reset?"
   ]
  },
  {
   "cell_type": "code",
   "execution_count": 82,
   "metadata": {},
   "outputs": [
    {
     "output_type": "stream",
     "text": [
      "\u001b[0;31mSignature:\u001b[0m \u001b[0menv\u001b[0m\u001b[0;34m.\u001b[0m\u001b[0mstep\u001b[0m\u001b[0;34m(\u001b[0m\u001b[0maction\u001b[0m\u001b[0;34m)\u001b[0m\u001b[0;34m\u001b[0m\u001b[0;34m\u001b[0m\u001b[0m\n",
      "\u001b[0;31mDocstring:\u001b[0m\n",
      "Run one timestep of the environment's dynamics. When end of\n",
      "episode is reached, you are responsible for calling `reset()`\n",
      "to reset this environment's state.\n",
      "\n",
      "Accepts an action and returns a tuple (observation, reward, done, info).\n",
      "\n",
      "Args:\n",
      "    action (object): an action provided by the agent\n",
      "\n",
      "Returns:\n",
      "    observation (object): agent's observation of the current environment\n",
      "    reward (float) : amount of reward returned after previous action\n",
      "    done (bool): whether the episode has ended, in which case further step() calls will return undefined results\n",
      "    info (dict): contains auxiliary diagnostic information (helpful for debugging, and sometimes learning)\n",
      "\u001b[0;31mFile:\u001b[0m      ~/learning/curso-verao-rl-ime-2021/src/gym/gym/wrappers/time_limit.py\n",
      "\u001b[0;31mType:\u001b[0m      method\n"
     ],
     "name": "stdout"
    }
   ],
   "source": [
    "env.step?"
   ]
  },
  {
   "cell_type": "markdown",
   "metadata": {},
   "source": [
    "## 2. Agentes \n",
    "\n",
    "A fim de permitir a implementação do **ciclo de interação Agente-Ambiente**, um agente de RL deve ser capaz de escolher uma ação para cada observação recebida do ambiente e aprender (i.e., melhorar sua performance) a partir de suas experiências.\n",
    "\n",
    "Nesse contexto, na classe abstrata `Agent` definimos a interface geral de um agente de RL. \n",
    "\n",
    "> **Atenção**: Familiarize-se com essa classe; todos os agentes definidos nessa aula e nas próximas deverão especializar (i.e., derivar ou sub-classear) essa interface geral."
   ]
  },
  {
   "cell_type": "code",
   "execution_count": 84,
   "metadata": {},
   "outputs": [],
   "source": [
    "class Agent(abc.ABC):\n",
    "    \"\"\"\n",
    "    Classe abstrata que define a interface básica de um agente RL.\n",
    "\n",
    "    Args:\n",
    "        obs_space:     especificação do espaço de observações do ambiente.\n",
    "        action_space:  especificação do espaço de ações do ambiente.\n",
    "        config (dict): (opcional) configurações de hiper-parâmetros.\n",
    "    \"\"\"\n",
    "\n",
    "    def __init__(self, obs_space, action_space, config=None):\n",
    "        self.obs_space = obs_space\n",
    "        self.action_space = action_space\n",
    "        self.config = config\n",
    "\n",
    "    @abc.abstractmethod\n",
    "    def step(self, obs):\n",
    "        \"\"\"\n",
    "        Escolhe uma ação para ser tomada dada uma observação do ambiente.\n",
    "        \n",
    "        Args: \n",
    "            obs (np.ndarray): observação do ambiente.\n",
    "        \n",
    "        Return:\n",
    "            action (np.ndarray): ação válida dentro do espaço de ações.\n",
    "        \"\"\"\n",
    "        raise NotImplementedError\n",
    "\n",
    "    @abc.abstractmethod\n",
    "    def learn(self, batch):\n",
    "        \"\"\"\n",
    "        Método de treinamento do agente. A partir de uma amostra de experiências,\n",
    "        o agente aprende um novo comportamento.\n",
    "\n",
    "        Args: \n",
    "            batch (Dict[str, np.ndarray]): Um batch de transições.\n",
    "\n",
    "        Return:\n",
    "            None\n",
    "        \"\"\"     \n",
    "        raise NotImplementedError\n"
   ]
  },
  {
   "cell_type": "markdown",
   "metadata": {},
   "source": [
    "### 2.1 Definindo um agente aleatório\n",
    "\n",
    "Antes de finalmente definir o ciclo de interação agente-ambiente, vamos implementar um agente que escolhe ações aleatórias.\n",
    "\n",
    "O agente `RandomPolicy` tem seu comportamento definido por uma política estocástica dada por uma distribuição uniforme sobre as ações válidas:\n",
    "\n",
    "$$\n",
    "\\mathbf{a}_t \\sim \\pi(\\cdot|\\mathbf{s}) = \\mathcal{Uniform}(\\{ \\mathbf{a} : \\mathbf{a} \\in \\mathcal{A} \\})~.\n",
    "$$\n",
    "\n",
    "Note que nesse ponto do curso, a implementação do agente aleatório é basicamente ilustrativa. No entanto, como veremos nas aulas seguintes, um agente que implementa uma política aleatória tem duas importantes funções:\n",
    "1. servir de referência de performance final; e\n",
    "2. guiar a inicialização de agentes de RL.\n",
    "\n",
    "Em outras palavras, se um agente de RL após o treinamento não conseguir uma performance significativamente melhor do que aquela do agente aleatório, então muito provavelemente algo não está funcionando como deveria. Além disso, ao garantir que a inicialização de uma política induza um comportamente similar ao de um agente aleatório, não estaremos enviesando a exploração inicial do agente; o que poderia levar muito rapidamente para uma performance sub-ótima."
   ]
  },
  {
   "cell_type": "code",
   "execution_count": 86,
   "metadata": {},
   "outputs": [],
   "source": [
    "class RandomPolicy(Agent):\n",
    "    \"\"\"\n",
    "    Agente aleatório. Escolhe aleatoriamente uma ação independentemente\n",
    "    da observação recebida do ambiente.\n",
    "    \n",
    "    Args:\n",
    "        action_space:  especificação do espaço de ações do ambiente.\n",
    "    \"\"\"\n",
    "    \n",
    "    def __init__(self, observation_space, action_space, config=None):\n",
    "        super().__init__(observation_space, action_space, config)\n",
    "\n",
    "    def step(self, obs):\n",
    "        \"\"\"Retorna uma ação aleatória.\"\"\"\n",
    "        del obs\n",
    "        return self.action_space.sample()\n",
    "\n",
    "    def learn(self, batch):\n",
    "        \"\"\"Um agente aletório não aprende; i.e., não melhora seu comportamento.\"\"\"\n",
    "        pass\n"
   ]
  },
  {
   "cell_type": "markdown",
   "metadata": {},
   "source": [
    "Note que para uma mesma observação o agente `RandomPolicy` retorna diferentes ações a cada chamada:"
   ]
  },
  {
   "cell_type": "code",
   "execution_count": 88,
   "metadata": {},
   "outputs": [
    {
     "output_type": "stream",
     "name": "stdout",
     "text": [
      "[0, 0, 0, 0, 2, 0, 1, 1, 1, 1, 0, 0, 1, 0, 0, 1, 0, 0, 1, 2]\n"
     ]
    }
   ],
   "source": [
    "agent = RandomPolicy(env.observation_space, env.action_space)\n",
    "\n",
    "obs = env.reset()\n",
    "print([agent.step(obs) for _ in range(20)])"
   ]
  },
  {
   "cell_type": "code",
   "execution_count": 90,
   "metadata": {},
   "outputs": [
    {
     "output_type": "display_data",
     "data": {
      "text/html": "\n\n\n\n\n\n  <div class=\"bk-root\" id=\"8abf7b29-c185-4772-af74-23f011001068\" data-root-id=\"4311\"></div>\n"
     },
     "metadata": {}
    },
    {
     "output_type": "display_data",
     "data": {
      "application/javascript": "(function(root) {\n  function embed_document(root) {\n    \n  var docs_json = {\"2328de65-57f6-4f89-a53a-962df35eb566\":{\"roots\":{\"references\":[{\"attributes\":{\"children\":[{\"id\":\"4310\"},{\"id\":\"4308\"}]},\"id\":\"4311\",\"type\":\"Column\"},{\"attributes\":{\"axis\":{\"id\":\"4219\"},\"dimension\":1,\"ticker\":null},\"id\":\"4222\",\"type\":\"Grid\"},{\"attributes\":{\"data_source\":{\"id\":\"4239\"},\"glyph\":{\"id\":\"4240\"},\"hover_glyph\":null,\"muted_glyph\":null,\"nonselection_glyph\":{\"id\":\"4241\"},\"selection_glyph\":null,\"view\":{\"id\":\"4243\"}},\"id\":\"4242\",\"type\":\"GlyphRenderer\"},{\"attributes\":{\"source\":{\"id\":\"4039\"}},\"id\":\"4043\",\"type\":\"CDSView\"},{\"attributes\":{\"bottom\":{\"value\":0},\"fill_alpha\":{\"value\":0.5},\"fill_color\":{\"value\":\"#1f77b4\"},\"left\":{\"field\":\"left\"},\"line_alpha\":{\"value\":0.5},\"line_color\":{\"value\":\"white\"},\"right\":{\"field\":\"right\"},\"top\":{\"field\":\"top\"}},\"id\":\"4080\",\"type\":\"Quad\"},{\"attributes\":{\"below\":[{\"id\":\"4015\"}],\"center\":[{\"id\":\"4018\"},{\"id\":\"4022\"}],\"left\":[{\"id\":\"4019\"}],\"plot_height\":250,\"plot_width\":250,\"renderers\":[{\"id\":\"4042\"}],\"title\":{\"id\":\"4005\"},\"toolbar\":{\"id\":\"4030\"},\"toolbar_location\":null,\"x_range\":{\"id\":\"4007\"},\"x_scale\":{\"id\":\"4011\"},\"y_range\":{\"id\":\"4009\"},\"y_scale\":{\"id\":\"4013\"}},\"id\":\"4004\",\"subtype\":\"Figure\",\"type\":\"Plot\"},{\"attributes\":{},\"id\":\"4107\",\"type\":\"ResetTool\"},{\"attributes\":{\"data_source\":{\"id\":\"4039\"},\"glyph\":{\"id\":\"4040\"},\"hover_glyph\":null,\"muted_glyph\":null,\"nonselection_glyph\":{\"id\":\"4041\"},\"selection_glyph\":null,\"view\":{\"id\":\"4043\"}},\"id\":\"4042\",\"type\":\"GlyphRenderer\"},{\"attributes\":{},\"id\":\"4171\",\"type\":\"LinearScale\"},{\"attributes\":{\"data\":{\"left\":{\"__ndarray__\":\"AAAAAAAAAABVVVVVVVXlP1VVVVVVVfU/\",\"dtype\":\"float64\",\"order\":\"little\",\"shape\":[3]},\"right\":{\"__ndarray__\":\"VVVVVVVV5T9VVVVVVVX1PwAAAAAAAABA\",\"dtype\":\"float64\",\"order\":\"little\",\"shape\":[3]},\"top\":{\"__ndarray__\":\"EoPAyqFF4D/D9Shcj8LdPwsCK4cW2eA/\",\"dtype\":\"float64\",\"order\":\"little\",\"shape\":[3]}},\"selected\":{\"id\":\"4297\"},\"selection_policy\":{\"id\":\"4298\"}},\"id\":\"4199\",\"type\":\"ColumnDataSource\"},{\"attributes\":{},\"id\":\"4249\",\"type\":\"Selection\"},{\"attributes\":{},\"id\":\"4027\",\"type\":\"ResetTool\"},{\"attributes\":{},\"id\":\"4067\",\"type\":\"ResetTool\"},{\"attributes\":{\"ticks\":[0.3333333333333333,1.0,1.6666666666666665]},\"id\":\"4037\",\"type\":\"FixedTicker\"},{\"attributes\":{\"overlay\":{\"id\":\"4069\"}},\"id\":\"4065\",\"type\":\"BoxZoomTool\"},{\"attributes\":{\"overlay\":{\"id\":\"4229\"}},\"id\":\"4225\",\"type\":\"BoxZoomTool\"},{\"attributes\":{},\"id\":\"3933\",\"type\":\"LinearScale\"},{\"attributes\":{},\"id\":\"4224\",\"type\":\"WheelZoomTool\"},{\"attributes\":{\"axis\":{\"id\":\"4179\"},\"dimension\":1,\"ticker\":null},\"id\":\"4182\",\"type\":\"Grid\"},{\"attributes\":{},\"id\":\"4066\",\"type\":\"SaveTool\"},{\"attributes\":{},\"id\":\"4227\",\"type\":\"ResetTool\"},{\"attributes\":{\"text\":\"obs = [-0.94029415 -0.05460215]\"},\"id\":\"4165\",\"type\":\"Title\"},{\"attributes\":{\"bottom_units\":\"screen\",\"fill_alpha\":0.5,\"fill_color\":\"lightgrey\",\"left_units\":\"screen\",\"level\":\"overlay\",\"line_alpha\":1.0,\"line_color\":\"black\",\"line_dash\":[4,4],\"line_width\":2,\"right_units\":\"screen\",\"top_units\":\"screen\"},\"id\":\"4029\",\"type\":\"BoxAnnotation\"},{\"attributes\":{\"source\":{\"id\":\"4239\"}},\"id\":\"4243\",\"type\":\"CDSView\"},{\"attributes\":{\"overlay\":{\"id\":\"4109\"}},\"id\":\"4105\",\"type\":\"BoxZoomTool\"},{\"attributes\":{},\"id\":\"4220\",\"type\":\"BasicTicker\"},{\"attributes\":{},\"id\":\"3931\",\"type\":\"LinearScale\"},{\"attributes\":{},\"id\":\"4247\",\"type\":\"BasicTickFormatter\"},{\"attributes\":{},\"id\":\"4100\",\"type\":\"BasicTicker\"},{\"attributes\":{},\"id\":\"4108\",\"type\":\"HelpTool\"},{\"attributes\":{\"data_source\":{\"id\":\"4119\"},\"glyph\":{\"id\":\"4120\"},\"hover_glyph\":null,\"muted_glyph\":null,\"nonselection_glyph\":{\"id\":\"4121\"},\"selection_glyph\":null,\"view\":{\"id\":\"4123\"}},\"id\":\"4122\",\"type\":\"GlyphRenderer\"},{\"attributes\":{},\"id\":\"4106\",\"type\":\"SaveTool\"},{\"attributes\":{\"data\":{\"left\":{\"__ndarray__\":\"AAAAAAAAAABVVVVVVVXlP1VVVVVVVfU/\",\"dtype\":\"float64\",\"order\":\"little\",\"shape\":[3]},\"right\":{\"__ndarray__\":\"VVVVVVVV5T9VVVVVVVX1PwAAAAAAAABA\",\"dtype\":\"float64\",\"order\":\"little\",\"shape\":[3]},\"top\":{\"__ndarray__\":\"N4lBYOXQ3j++nxov3STeP4TrUbgeheE/\",\"dtype\":\"float64\",\"order\":\"little\",\"shape\":[3]}},\"selected\":{\"id\":\"4305\"},\"selection_policy\":{\"id\":\"4306\"}},\"id\":\"4239\",\"type\":\"ColumnDataSource\"},{\"attributes\":{},\"id\":\"4028\",\"type\":\"HelpTool\"},{\"attributes\":{},\"id\":\"4223\",\"type\":\"PanTool\"},{\"attributes\":{\"axis_label\":\"Action Distribution\",\"formatter\":{\"id\":\"4263\"},\"ticker\":{\"id\":\"4020\"}},\"id\":\"4019\",\"type\":\"LinearAxis\"},{\"attributes\":{},\"id\":\"4274\",\"type\":\"UnionRenderers\"},{\"attributes\":{\"axis\":{\"id\":\"4099\"},\"dimension\":1,\"ticker\":null},\"id\":\"4102\",\"type\":\"Grid\"},{\"attributes\":{\"active_drag\":\"auto\",\"active_inspect\":\"auto\",\"active_multi\":null,\"active_scroll\":\"auto\",\"active_tap\":\"auto\",\"tools\":[{\"id\":\"3983\"},{\"id\":\"3984\"},{\"id\":\"3985\"},{\"id\":\"3986\"},{\"id\":\"3987\"},{\"id\":\"3988\"}]},\"id\":\"3990\",\"type\":\"Toolbar\"},{\"attributes\":{},\"id\":\"4104\",\"type\":\"WheelZoomTool\"},{\"attributes\":{},\"id\":\"4068\",\"type\":\"HelpTool\"},{\"attributes\":{},\"id\":\"4020\",\"type\":\"BasicTicker\"},{\"attributes\":{},\"id\":\"4273\",\"type\":\"Selection\"},{\"attributes\":{},\"id\":\"3927\",\"type\":\"DataRange1d\"},{\"attributes\":{\"ticks\":[0.3333333333333333,1.0,1.6666666666666665]},\"id\":\"4117\",\"type\":\"FixedTicker\"},{\"attributes\":{\"axis\":{\"id\":\"4019\"},\"dimension\":1,\"ticker\":null},\"id\":\"4022\",\"type\":\"Grid\"},{\"attributes\":{\"data\":{\"left\":{\"__ndarray__\":\"AAAAAAAAAABVVVVVVVXlP1VVVVVVVfU/\",\"dtype\":\"float64\",\"order\":\"little\",\"shape\":[3]},\"right\":{\"__ndarray__\":\"VVVVVVVV5T9VVVVVVVX1PwAAAAAAAABA\",\"dtype\":\"float64\",\"order\":\"little\",\"shape\":[3]},\"top\":{\"__ndarray__\":\"TmIQWDm04D+yne+nxkvfP7Gd76fGS98/\",\"dtype\":\"float64\",\"order\":\"little\",\"shape\":[3]}},\"selected\":{\"id\":\"4265\"},\"selection_policy\":{\"id\":\"4266\"}},\"id\":\"4039\",\"type\":\"ColumnDataSource\"},{\"attributes\":{\"bottom_units\":\"screen\",\"fill_alpha\":0.5,\"fill_color\":\"lightgrey\",\"left_units\":\"screen\",\"level\":\"overlay\",\"line_alpha\":1.0,\"line_color\":\"black\",\"line_dash\":[4,4],\"line_width\":2,\"right_units\":\"screen\",\"top_units\":\"screen\"},\"id\":\"3989\",\"type\":\"BoxAnnotation\"},{\"attributes\":{},\"id\":\"4024\",\"type\":\"WheelZoomTool\"},{\"attributes\":{\"bottom\":{\"value\":0},\"fill_alpha\":{\"value\":0.1},\"fill_color\":{\"value\":\"#1f77b4\"},\"left\":{\"field\":\"left\"},\"line_alpha\":{\"value\":0.1},\"line_color\":{\"value\":\"white\"},\"right\":{\"field\":\"right\"},\"top\":{\"field\":\"top\"}},\"id\":\"4121\",\"type\":\"Quad\"},{\"attributes\":{\"active_drag\":\"auto\",\"active_inspect\":\"auto\",\"active_multi\":null,\"active_scroll\":\"auto\",\"active_tap\":\"auto\",\"tools\":[{\"id\":\"4223\"},{\"id\":\"4224\"},{\"id\":\"4225\"},{\"id\":\"4226\"},{\"id\":\"4227\"},{\"id\":\"4228\"}]},\"id\":\"4230\",\"type\":\"Toolbar\"},{\"attributes\":{},\"id\":\"4063\",\"type\":\"PanTool\"},{\"attributes\":{\"axis_label\":\"Action Distribution\",\"formatter\":{\"id\":\"4279\"},\"ticker\":{\"id\":\"4100\"}},\"id\":\"4099\",\"type\":\"LinearAxis\"},{\"attributes\":{\"axis_label\":\"Action Distribution\",\"formatter\":{\"id\":\"4303\"},\"ticker\":{\"id\":\"4220\"}},\"id\":\"4219\",\"type\":\"LinearAxis\"},{\"attributes\":{},\"id\":\"4289\",\"type\":\"Selection\"},{\"attributes\":{\"active_drag\":\"auto\",\"active_inspect\":\"auto\",\"active_multi\":null,\"active_scroll\":\"auto\",\"active_tap\":\"auto\",\"tools\":[{\"id\":\"4023\"},{\"id\":\"4024\"},{\"id\":\"4025\"},{\"id\":\"4026\"},{\"id\":\"4027\"},{\"id\":\"4028\"}]},\"id\":\"4030\",\"type\":\"Toolbar\"},{\"attributes\":{\"axis\":{\"id\":\"4215\"},\"ticker\":null,\"visible\":false},\"id\":\"4218\",\"type\":\"Grid\"},{\"attributes\":{\"active_drag\":\"auto\",\"active_inspect\":\"auto\",\"active_multi\":null,\"active_scroll\":\"auto\",\"active_tap\":\"auto\",\"tools\":[{\"id\":\"4103\"},{\"id\":\"4104\"},{\"id\":\"4105\"},{\"id\":\"4106\"},{\"id\":\"4107\"},{\"id\":\"4108\"}]},\"id\":\"4110\",\"type\":\"Toolbar\"},{\"attributes\":{},\"id\":\"4064\",\"type\":\"WheelZoomTool\"},{\"attributes\":{},\"id\":\"4226\",\"type\":\"SaveTool\"},{\"attributes\":{\"axis\":{\"id\":\"4095\"},\"ticker\":null,\"visible\":false},\"id\":\"4098\",\"type\":\"Grid\"},{\"attributes\":{\"ticks\":[0.3333333333333333,1.0,1.6666666666666665]},\"id\":\"4237\",\"type\":\"FixedTicker\"},{\"attributes\":{},\"id\":\"4023\",\"type\":\"PanTool\"},{\"attributes\":{},\"id\":\"4228\",\"type\":\"HelpTool\"},{\"attributes\":{\"bottom\":{\"value\":0},\"fill_alpha\":{\"value\":0.1},\"fill_color\":{\"value\":\"#1f77b4\"},\"left\":{\"field\":\"left\"},\"line_alpha\":{\"value\":0.1},\"line_color\":{\"value\":\"white\"},\"right\":{\"field\":\"right\"},\"top\":{\"field\":\"top\"}},\"id\":\"4081\",\"type\":\"Quad\"},{\"attributes\":{\"bottom\":{\"value\":0},\"fill_alpha\":{\"value\":0.1},\"fill_color\":{\"value\":\"#1f77b4\"},\"left\":{\"field\":\"left\"},\"line_alpha\":{\"value\":0.1},\"line_color\":{\"value\":\"white\"},\"right\":{\"field\":\"right\"},\"top\":{\"field\":\"top\"}},\"id\":\"4241\",\"type\":\"Quad\"},{\"attributes\":{},\"id\":\"4103\",\"type\":\"PanTool\"},{\"attributes\":{},\"id\":\"4265\",\"type\":\"Selection\"},{\"attributes\":{\"axis\":{\"id\":\"4015\"},\"ticker\":null,\"visible\":false},\"id\":\"4018\",\"type\":\"Grid\"},{\"attributes\":{\"data\":{\"left\":{\"__ndarray__\":\"AAAAAAAAAABVVVVVVVXlP1VVVVVVVfU/\",\"dtype\":\"float64\",\"order\":\"little\",\"shape\":[3]},\"right\":{\"__ndarray__\":\"VVVVVVVV5T9VVVVVVVX1PwAAAAAAAABA\",\"dtype\":\"float64\",\"order\":\"little\",\"shape\":[3]},\"top\":{\"__ndarray__\":\"kxgEVg4t4D89CtejcD3eP01iEFg5tOA/\",\"dtype\":\"float64\",\"order\":\"little\",\"shape\":[3]}},\"selected\":{\"id\":\"4273\"},\"selection_policy\":{\"id\":\"4274\"}},\"id\":\"4079\",\"type\":\"ColumnDataSource\"},{\"attributes\":{\"axis\":{\"id\":\"3935\"},\"ticker\":null,\"visible\":false},\"id\":\"3938\",\"type\":\"Grid\"},{\"attributes\":{\"source\":{\"id\":\"4079\"}},\"id\":\"4083\",\"type\":\"CDSView\"},{\"attributes\":{},\"id\":\"4140\",\"type\":\"BasicTicker\"},{\"attributes\":{},\"id\":\"4295\",\"type\":\"BasicTickFormatter\"},{\"attributes\":{},\"id\":\"4209\",\"type\":\"DataRange1d\"},{\"attributes\":{},\"id\":\"4011\",\"type\":\"LinearScale\"},{\"attributes\":{},\"id\":\"4091\",\"type\":\"LinearScale\"},{\"attributes\":{\"axis\":{\"id\":\"4139\"},\"dimension\":1,\"ticker\":null},\"id\":\"4142\",\"type\":\"Grid\"},{\"attributes\":{\"source\":{\"id\":\"3959\"}},\"id\":\"3963\",\"type\":\"CDSView\"},{\"attributes\":{\"axis_label\":\"Action Distribution\",\"formatter\":{\"id\":\"4271\"},\"ticker\":{\"id\":\"4060\"}},\"id\":\"4059\",\"type\":\"LinearAxis\"},{\"attributes\":{},\"id\":\"4133\",\"type\":\"LinearScale\"},{\"attributes\":{},\"id\":\"3980\",\"type\":\"BasicTicker\"},{\"attributes\":{\"ticks\":[0.3333333333333333,1.0,1.6666666666666665]},\"id\":\"4077\",\"type\":\"FixedTicker\"},{\"attributes\":{\"below\":[{\"id\":\"4135\"}],\"center\":[{\"id\":\"4138\"},{\"id\":\"4142\"}],\"left\":[{\"id\":\"4139\"}],\"plot_height\":250,\"plot_width\":250,\"renderers\":[{\"id\":\"4162\"}],\"title\":{\"id\":\"4125\"},\"toolbar\":{\"id\":\"4150\"},\"toolbar_location\":null,\"x_range\":{\"id\":\"4127\"},\"x_scale\":{\"id\":\"4131\"},\"y_range\":{\"id\":\"4129\"},\"y_scale\":{\"id\":\"4133\"}},\"id\":\"4124\",\"subtype\":\"Figure\",\"type\":\"Plot\"},{\"attributes\":{\"axis_label\":\"Actions\",\"formatter\":{\"id\":\"4277\"},\"major_label_overrides\":{\"0.3333333333333333\":\"0\",\"1.0\":\"1\",\"1.6666666666666665\":\"2\"},\"ticker\":{\"id\":\"4117\"}},\"id\":\"4095\",\"type\":\"LinearAxis\"},{\"attributes\":{\"text\":\"obs = [-0.6046331   0.05298534]\"},\"id\":\"4205\",\"type\":\"Title\"},{\"attributes\":{\"ticks\":[0.3333333333333333,1.0,1.6666666666666665]},\"id\":\"4157\",\"type\":\"FixedTicker\"},{\"attributes\":{\"below\":[{\"id\":\"4215\"}],\"center\":[{\"id\":\"4218\"},{\"id\":\"4222\"}],\"left\":[{\"id\":\"4219\"}],\"plot_height\":250,\"plot_width\":250,\"renderers\":[{\"id\":\"4242\"}],\"title\":{\"id\":\"4205\"},\"toolbar\":{\"id\":\"4230\"},\"toolbar_location\":null,\"x_range\":{\"id\":\"4207\"},\"x_scale\":{\"id\":\"4211\"},\"y_range\":{\"id\":\"4209\"},\"y_scale\":{\"id\":\"4213\"}},\"id\":\"4204\",\"subtype\":\"Figure\",\"type\":\"Plot\"},{\"attributes\":{\"axis_label\":\"Action Distribution\",\"formatter\":{\"id\":\"4255\"},\"ticker\":{\"id\":\"3980\"}},\"id\":\"3979\",\"type\":\"LinearAxis\"},{\"attributes\":{\"text\":\"obs = [-0.48679975  0.02726811]\"},\"id\":\"4005\",\"type\":\"Title\"},{\"attributes\":{},\"id\":\"4287\",\"type\":\"BasicTickFormatter\"},{\"attributes\":{},\"id\":\"3983\",\"type\":\"PanTool\"},{\"attributes\":{},\"id\":\"4051\",\"type\":\"LinearScale\"},{\"attributes\":{\"bottom\":{\"value\":0},\"fill_alpha\":{\"value\":0.5},\"fill_color\":{\"value\":\"#1f77b4\"},\"left\":{\"field\":\"left\"},\"line_alpha\":{\"value\":0.5},\"line_color\":{\"value\":\"white\"},\"right\":{\"field\":\"right\"},\"top\":{\"field\":\"top\"}},\"id\":\"4000\",\"type\":\"Quad\"},{\"attributes\":{\"text\":\"obs = [-0.06218568 -0.06414063]\"},\"id\":\"4125\",\"type\":\"Title\"},{\"attributes\":{\"axis_label\":\"Actions\",\"formatter\":{\"id\":\"4285\"},\"major_label_overrides\":{\"0.3333333333333333\":\"0\",\"1.0\":\"1\",\"1.6666666666666665\":\"2\"},\"ticker\":{\"id\":\"4157\"}},\"id\":\"4135\",\"type\":\"LinearAxis\"},{\"attributes\":{\"ticks\":[0.3333333333333333,1.0,1.6666666666666665]},\"id\":\"3957\",\"type\":\"FixedTicker\"},{\"attributes\":{\"data\":{\"left\":{\"__ndarray__\":\"AAAAAAAAAABVVVVVVVXlP1VVVVVVVfU/\",\"dtype\":\"float64\",\"order\":\"little\",\"shape\":[3]},\"right\":{\"__ndarray__\":\"VVVVVVVV5T9VVVVVVVX1PwAAAAAAAABA\",\"dtype\":\"float64\",\"order\":\"little\",\"shape\":[3]},\"top\":{\"__ndarray__\":\"PQrXo3A93j/RItv5fmrgPw9YObTIduA/\",\"dtype\":\"float64\",\"order\":\"little\",\"shape\":[3]}},\"selected\":{\"id\":\"4281\"},\"selection_policy\":{\"id\":\"4282\"}},\"id\":\"4119\",\"type\":\"ColumnDataSource\"},{\"attributes\":{},\"id\":\"3973\",\"type\":\"LinearScale\"},{\"attributes\":{},\"id\":\"4009\",\"type\":\"DataRange1d\"},{\"attributes\":{\"bottom\":{\"value\":0},\"fill_alpha\":{\"value\":0.1},\"fill_color\":{\"value\":\"#1f77b4\"},\"left\":{\"field\":\"left\"},\"line_alpha\":{\"value\":0.1},\"line_color\":{\"value\":\"white\"},\"right\":{\"field\":\"right\"},\"top\":{\"field\":\"top\"}},\"id\":\"4201\",\"type\":\"Quad\"},{\"attributes\":{},\"id\":\"4301\",\"type\":\"BasicTickFormatter\"},{\"attributes\":{},\"id\":\"3987\",\"type\":\"ResetTool\"},{\"attributes\":{\"bottom\":{\"value\":0},\"fill_alpha\":{\"value\":0.1},\"fill_color\":{\"value\":\"#1f77b4\"},\"left\":{\"field\":\"left\"},\"line_alpha\":{\"value\":0.1},\"line_color\":{\"value\":\"white\"},\"right\":{\"field\":\"right\"},\"top\":{\"field\":\"top\"}},\"id\":\"4161\",\"type\":\"Quad\"},{\"attributes\":{\"bottom\":{\"value\":0},\"fill_alpha\":{\"value\":0.5},\"fill_color\":{\"value\":\"#1f77b4\"},\"left\":{\"field\":\"left\"},\"line_alpha\":{\"value\":0.5},\"line_color\":{\"value\":\"white\"},\"right\":{\"field\":\"right\"},\"top\":{\"field\":\"top\"}},\"id\":\"4240\",\"type\":\"Quad\"},{\"attributes\":{},\"id\":\"4297\",\"type\":\"Selection\"},{\"attributes\":{\"bottom\":{\"value\":0},\"fill_alpha\":{\"value\":0.1},\"fill_color\":{\"value\":\"#1f77b4\"},\"left\":{\"field\":\"left\"},\"line_alpha\":{\"value\":0.1},\"line_color\":{\"value\":\"white\"},\"right\":{\"field\":\"right\"},\"top\":{\"field\":\"top\"}},\"id\":\"3961\",\"type\":\"Quad\"},{\"attributes\":{},\"id\":\"4180\",\"type\":\"BasicTicker\"},{\"attributes\":{\"overlay\":{\"id\":\"3989\"}},\"id\":\"3985\",\"type\":\"BoxZoomTool\"},{\"attributes\":{\"text\":\"obs = [-0.20317805  0.00125545]\"},\"id\":\"3965\",\"type\":\"Title\"},{\"attributes\":{},\"id\":\"4261\",\"type\":\"BasicTickFormatter\"},{\"attributes\":{\"active_drag\":\"auto\",\"active_inspect\":\"auto\",\"active_multi\":null,\"active_scroll\":\"auto\",\"active_tap\":\"auto\",\"tools\":[{\"id\":\"4143\"},{\"id\":\"4144\"},{\"id\":\"4145\"},{\"id\":\"4146\"},{\"id\":\"4147\"},{\"id\":\"4148\"}]},\"id\":\"4150\",\"type\":\"Toolbar\"},{\"attributes\":{\"bottom_units\":\"screen\",\"fill_alpha\":0.5,\"fill_color\":\"lightgrey\",\"left_units\":\"screen\",\"level\":\"overlay\",\"line_alpha\":1.0,\"line_color\":\"black\",\"line_dash\":[4,4],\"line_width\":2,\"right_units\":\"screen\",\"top_units\":\"screen\"},\"id\":\"4109\",\"type\":\"BoxAnnotation\"},{\"attributes\":{\"source\":{\"id\":\"4199\"}},\"id\":\"4203\",\"type\":\"CDSView\"},{\"attributes\":{},\"id\":\"4026\",\"type\":\"SaveTool\"},{\"attributes\":{},\"id\":\"4184\",\"type\":\"WheelZoomTool\"},{\"attributes\":{\"axis_label\":\"Action Distribution\",\"formatter\":{\"id\":\"4247\"},\"ticker\":{\"id\":\"3940\"}},\"id\":\"3939\",\"type\":\"LinearAxis\"},{\"attributes\":{\"bottom\":{\"value\":0},\"fill_alpha\":{\"value\":0.5},\"fill_color\":{\"value\":\"#1f77b4\"},\"left\":{\"field\":\"left\"},\"line_alpha\":{\"value\":0.5},\"line_color\":{\"value\":\"white\"},\"right\":{\"field\":\"right\"},\"top\":{\"field\":\"top\"}},\"id\":\"3960\",\"type\":\"Quad\"},{\"attributes\":{\"bottom_units\":\"screen\",\"fill_alpha\":0.5,\"fill_color\":\"lightgrey\",\"left_units\":\"screen\",\"level\":\"overlay\",\"line_alpha\":1.0,\"line_color\":\"black\",\"line_dash\":[4,4],\"line_width\":2,\"right_units\":\"screen\",\"top_units\":\"screen\"},\"id\":\"3949\",\"type\":\"BoxAnnotation\"},{\"attributes\":{},\"id\":\"4263\",\"type\":\"BasicTickFormatter\"},{\"attributes\":{},\"id\":\"4279\",\"type\":\"BasicTickFormatter\"},{\"attributes\":{},\"id\":\"4285\",\"type\":\"BasicTickFormatter\"},{\"attributes\":{},\"id\":\"3947\",\"type\":\"ResetTool\"},{\"attributes\":{\"overlay\":{\"id\":\"4029\"}},\"id\":\"4025\",\"type\":\"BoxZoomTool\"},{\"attributes\":{},\"id\":\"4131\",\"type\":\"LinearScale\"},{\"attributes\":{},\"id\":\"4167\",\"type\":\"DataRange1d\"},{\"attributes\":{\"axis_label\":\"Actions\",\"formatter\":{\"id\":\"4245\"},\"major_label_overrides\":{\"0.3333333333333333\":\"0\",\"1.0\":\"1\",\"1.6666666666666665\":\"2\"},\"ticker\":{\"id\":\"3957\"}},\"id\":\"3935\",\"type\":\"LinearAxis\"},{\"attributes\":{\"active_drag\":\"auto\",\"active_inspect\":\"auto\",\"active_multi\":null,\"active_scroll\":\"auto\",\"active_tap\":\"auto\",\"tools\":[{\"id\":\"4183\"},{\"id\":\"4184\"},{\"id\":\"4185\"},{\"id\":\"4186\"},{\"id\":\"4187\"},{\"id\":\"4188\"}]},\"id\":\"4190\",\"type\":\"Toolbar\"},{\"attributes\":{},\"id\":\"4173\",\"type\":\"LinearScale\"},{\"attributes\":{},\"id\":\"4211\",\"type\":\"LinearScale\"},{\"attributes\":{\"toolbars\":[{\"id\":\"3950\"},{\"id\":\"3990\"},{\"id\":\"4030\"},{\"id\":\"4070\"},{\"id\":\"4110\"},{\"id\":\"4150\"},{\"id\":\"4190\"},{\"id\":\"4230\"}],\"tools\":[{\"id\":\"3943\"},{\"id\":\"3944\"},{\"id\":\"3945\"},{\"id\":\"3946\"},{\"id\":\"3947\"},{\"id\":\"3948\"},{\"id\":\"3983\"},{\"id\":\"3984\"},{\"id\":\"3985\"},{\"id\":\"3986\"},{\"id\":\"3987\"},{\"id\":\"3988\"},{\"id\":\"4023\"},{\"id\":\"4024\"},{\"id\":\"4025\"},{\"id\":\"4026\"},{\"id\":\"4027\"},{\"id\":\"4028\"},{\"id\":\"4063\"},{\"id\":\"4064\"},{\"id\":\"4065\"},{\"id\":\"4066\"},{\"id\":\"4067\"},{\"id\":\"4068\"},{\"id\":\"4103\"},{\"id\":\"4104\"},{\"id\":\"4105\"},{\"id\":\"4106\"},{\"id\":\"4107\"},{\"id\":\"4108\"},{\"id\":\"4143\"},{\"id\":\"4144\"},{\"id\":\"4145\"},{\"id\":\"4146\"},{\"id\":\"4147\"},{\"id\":\"4148\"},{\"id\":\"4183\"},{\"id\":\"4184\"},{\"id\":\"4185\"},{\"id\":\"4186\"},{\"id\":\"4187\"},{\"id\":\"4188\"},{\"id\":\"4223\"},{\"id\":\"4224\"},{\"id\":\"4225\"},{\"id\":\"4226\"},{\"id\":\"4227\"},{\"id\":\"4228\"}]},\"id\":\"4309\",\"type\":\"ProxyToolbar\"},{\"attributes\":{},\"id\":\"3929\",\"type\":\"DataRange1d\"},{\"attributes\":{\"data\":{\"left\":{\"__ndarray__\":\"AAAAAAAAAABVVVVVVVXlP1VVVVVVVfU/\",\"dtype\":\"float64\",\"order\":\"little\",\"shape\":[3]},\"right\":{\"__ndarray__\":\"VVVVVVVV5T9VVVVVVVX1PwAAAAAAAABA\",\"dtype\":\"float64\",\"order\":\"little\",\"shape\":[3]},\"top\":{\"__ndarray__\":\"SOF6FK5H3T9OYhBYObTgPw0tsp3vp+A/\",\"dtype\":\"float64\",\"order\":\"little\",\"shape\":[3]}},\"selected\":{\"id\":\"4257\"},\"selection_policy\":{\"id\":\"4258\"}},\"id\":\"3999\",\"type\":\"ColumnDataSource\"},{\"attributes\":{},\"id\":\"4271\",\"type\":\"BasicTickFormatter\"},{\"attributes\":{},\"id\":\"4183\",\"type\":\"PanTool\"},{\"attributes\":{\"axis\":{\"id\":\"3975\"},\"ticker\":null,\"visible\":false},\"id\":\"3978\",\"type\":\"Grid\"},{\"attributes\":{},\"id\":\"4290\",\"type\":\"UnionRenderers\"},{\"attributes\":{\"axis\":{\"id\":\"4135\"},\"ticker\":null,\"visible\":false},\"id\":\"4138\",\"type\":\"Grid\"},{\"attributes\":{\"axis\":{\"id\":\"4175\"},\"ticker\":null,\"visible\":false},\"id\":\"4178\",\"type\":\"Grid\"},{\"attributes\":{\"bottom\":{\"value\":0},\"fill_alpha\":{\"value\":0.5},\"fill_color\":{\"value\":\"#1f77b4\"},\"left\":{\"field\":\"left\"},\"line_alpha\":{\"value\":0.5},\"line_color\":{\"value\":\"white\"},\"right\":{\"field\":\"right\"},\"top\":{\"field\":\"top\"}},\"id\":\"4120\",\"type\":\"Quad\"},{\"attributes\":{\"overlay\":{\"id\":\"4149\"}},\"id\":\"4145\",\"type\":\"BoxZoomTool\"},{\"attributes\":{\"axis\":{\"id\":\"4059\"},\"dimension\":1,\"ticker\":null},\"id\":\"4062\",\"type\":\"Grid\"},{\"attributes\":{},\"id\":\"4169\",\"type\":\"DataRange1d\"},{\"attributes\":{},\"id\":\"4213\",\"type\":\"LinearScale\"},{\"attributes\":{\"text\":\"obs = [ 0.12255412 -0.00025542]\"},\"id\":\"4045\",\"type\":\"Title\"},{\"attributes\":{\"bottom_units\":\"screen\",\"fill_alpha\":0.5,\"fill_color\":\"lightgrey\",\"left_units\":\"screen\",\"level\":\"overlay\",\"line_alpha\":1.0,\"line_color\":\"black\",\"line_dash\":[4,4],\"line_width\":2,\"right_units\":\"screen\",\"top_units\":\"screen\"},\"id\":\"4189\",\"type\":\"BoxAnnotation\"},{\"attributes\":{\"data\":{\"left\":{\"__ndarray__\":\"AAAAAAAAAABVVVVVVVXlP1VVVVVVVfU/\",\"dtype\":\"float64\",\"order\":\"little\",\"shape\":[3]},\"right\":{\"__ndarray__\":\"VVVVVVVV5T9VVVVVVVX1PwAAAAAAAABA\",\"dtype\":\"float64\",\"order\":\"little\",\"shape\":[3]},\"top\":{\"__ndarray__\":\"NV66SQwC3z/TTWIQWDngPxKDwMqhReA/\",\"dtype\":\"float64\",\"order\":\"little\",\"shape\":[3]}},\"selected\":{\"id\":\"4249\"},\"selection_policy\":{\"id\":\"4250\"}},\"id\":\"3959\",\"type\":\"ColumnDataSource\"},{\"attributes\":{\"bottom\":{\"value\":0},\"fill_alpha\":{\"value\":0.1},\"fill_color\":{\"value\":\"#1f77b4\"},\"left\":{\"field\":\"left\"},\"line_alpha\":{\"value\":0.1},\"line_color\":{\"value\":\"white\"},\"right\":{\"field\":\"right\"},\"top\":{\"field\":\"top\"}},\"id\":\"4041\",\"type\":\"Quad\"},{\"attributes\":{},\"id\":\"4188\",\"type\":\"HelpTool\"},{\"attributes\":{},\"id\":\"4245\",\"type\":\"BasicTickFormatter\"},{\"attributes\":{},\"id\":\"4281\",\"type\":\"Selection\"},{\"attributes\":{\"source\":{\"id\":\"4159\"}},\"id\":\"4163\",\"type\":\"CDSView\"},{\"attributes\":{},\"id\":\"4257\",\"type\":\"Selection\"},{\"attributes\":{\"active_drag\":\"auto\",\"active_inspect\":\"auto\",\"active_multi\":null,\"active_scroll\":\"auto\",\"active_tap\":\"auto\",\"tools\":[{\"id\":\"3943\"},{\"id\":\"3944\"},{\"id\":\"3945\"},{\"id\":\"3946\"},{\"id\":\"3947\"},{\"id\":\"3948\"}]},\"id\":\"3950\",\"type\":\"Toolbar\"},{\"attributes\":{\"bottom\":{\"value\":0},\"fill_alpha\":{\"value\":0.5},\"fill_color\":{\"value\":\"#1f77b4\"},\"left\":{\"field\":\"left\"},\"line_alpha\":{\"value\":0.5},\"line_color\":{\"value\":\"white\"},\"right\":{\"field\":\"right\"},\"top\":{\"field\":\"top\"}},\"id\":\"4040\",\"type\":\"Quad\"},{\"attributes\":{\"source\":{\"id\":\"4119\"}},\"id\":\"4123\",\"type\":\"CDSView\"},{\"attributes\":{},\"id\":\"4277\",\"type\":\"BasicTickFormatter\"},{\"attributes\":{\"axis\":{\"id\":\"4055\"},\"ticker\":null,\"visible\":false},\"id\":\"4058\",\"type\":\"Grid\"},{\"attributes\":{},\"id\":\"4127\",\"type\":\"DataRange1d\"},{\"attributes\":{\"below\":[{\"id\":\"4095\"}],\"center\":[{\"id\":\"4098\"},{\"id\":\"4102\"}],\"left\":[{\"id\":\"4099\"}],\"plot_height\":250,\"plot_width\":250,\"renderers\":[{\"id\":\"4122\"}],\"title\":{\"id\":\"4085\"},\"toolbar\":{\"id\":\"4110\"},\"toolbar_location\":null,\"x_range\":{\"id\":\"4087\"},\"x_scale\":{\"id\":\"4091\"},\"y_range\":{\"id\":\"4089\"},\"y_scale\":{\"id\":\"4093\"}},\"id\":\"4084\",\"subtype\":\"Figure\",\"type\":\"Plot\"},{\"attributes\":{},\"id\":\"4255\",\"type\":\"BasicTickFormatter\"},{\"attributes\":{\"children\":[[{\"id\":\"3924\"},0,0],[{\"id\":\"3964\"},0,1],[{\"id\":\"4004\"},0,2],[{\"id\":\"4044\"},0,3],[{\"id\":\"4084\"},1,0],[{\"id\":\"4124\"},1,1],[{\"id\":\"4164\"},1,2],[{\"id\":\"4204\"},1,3]]},\"id\":\"4308\",\"type\":\"GridBox\"},{\"attributes\":{},\"id\":\"4013\",\"type\":\"LinearScale\"},{\"attributes\":{},\"id\":\"4298\",\"type\":\"UnionRenderers\"},{\"attributes\":{\"active_drag\":\"auto\",\"active_inspect\":\"auto\",\"active_multi\":null,\"active_scroll\":\"auto\",\"active_tap\":\"auto\",\"tools\":[{\"id\":\"4063\"},{\"id\":\"4064\"},{\"id\":\"4065\"},{\"id\":\"4066\"},{\"id\":\"4067\"},{\"id\":\"4068\"}]},\"id\":\"4070\",\"type\":\"Toolbar\"},{\"attributes\":{\"data_source\":{\"id\":\"3959\"},\"glyph\":{\"id\":\"3960\"},\"hover_glyph\":null,\"muted_glyph\":null,\"nonselection_glyph\":{\"id\":\"3961\"},\"selection_glyph\":null,\"view\":{\"id\":\"3963\"}},\"id\":\"3962\",\"type\":\"GlyphRenderer\"},{\"attributes\":{\"axis_label\":\"Actions\",\"formatter\":{\"id\":\"4253\"},\"major_label_overrides\":{\"0.3333333333333333\":\"0\",\"1.0\":\"1\",\"1.6666666666666665\":\"2\"},\"ticker\":{\"id\":\"3997\"}},\"id\":\"3975\",\"type\":\"LinearAxis\"},{\"attributes\":{\"ticks\":[0.3333333333333333,1.0,1.6666666666666665]},\"id\":\"3997\",\"type\":\"FixedTicker\"},{\"attributes\":{\"below\":[{\"id\":\"3935\"}],\"center\":[{\"id\":\"3938\"},{\"id\":\"3942\"}],\"left\":[{\"id\":\"3939\"}],\"plot_height\":250,\"plot_width\":250,\"renderers\":[{\"id\":\"3962\"}],\"title\":{\"id\":\"3925\"},\"toolbar\":{\"id\":\"3950\"},\"toolbar_location\":null,\"x_range\":{\"id\":\"3927\"},\"x_scale\":{\"id\":\"3931\"},\"y_range\":{\"id\":\"3929\"},\"y_scale\":{\"id\":\"3933\"}},\"id\":\"3924\",\"subtype\":\"Figure\",\"type\":\"Plot\"},{\"attributes\":{},\"id\":\"3967\",\"type\":\"DataRange1d\"},{\"attributes\":{\"axis_label\":\"Action Distribution\",\"formatter\":{\"id\":\"4287\"},\"ticker\":{\"id\":\"4140\"}},\"id\":\"4139\",\"type\":\"LinearAxis\"},{\"attributes\":{\"data_source\":{\"id\":\"4159\"},\"glyph\":{\"id\":\"4160\"},\"hover_glyph\":null,\"muted_glyph\":null,\"nonselection_glyph\":{\"id\":\"4161\"},\"selection_glyph\":null,\"view\":{\"id\":\"4163\"}},\"id\":\"4162\",\"type\":\"GlyphRenderer\"},{\"attributes\":{},\"id\":\"4148\",\"type\":\"HelpTool\"},{\"attributes\":{\"axis_label\":\"Actions\",\"formatter\":{\"id\":\"4301\"},\"major_label_overrides\":{\"0.3333333333333333\":\"0\",\"1.0\":\"1\",\"1.6666666666666665\":\"2\"},\"ticker\":{\"id\":\"4237\"}},\"id\":\"4215\",\"type\":\"LinearAxis\"},{\"attributes\":{\"bottom_units\":\"screen\",\"fill_alpha\":0.5,\"fill_color\":\"lightgrey\",\"left_units\":\"screen\",\"level\":\"overlay\",\"line_alpha\":1.0,\"line_color\":\"black\",\"line_dash\":[4,4],\"line_width\":2,\"right_units\":\"screen\",\"top_units\":\"screen\"},\"id\":\"4229\",\"type\":\"BoxAnnotation\"},{\"attributes\":{},\"id\":\"4258\",\"type\":\"UnionRenderers\"},{\"attributes\":{},\"id\":\"4047\",\"type\":\"DataRange1d\"},{\"attributes\":{\"axis_label\":\"Action Distribution\",\"formatter\":{\"id\":\"4295\"},\"ticker\":{\"id\":\"4180\"}},\"id\":\"4179\",\"type\":\"LinearAxis\"},{\"attributes\":{},\"id\":\"4282\",\"type\":\"UnionRenderers\"},{\"attributes\":{},\"id\":\"4305\",\"type\":\"Selection\"},{\"attributes\":{},\"id\":\"3946\",\"type\":\"SaveTool\"},{\"attributes\":{},\"id\":\"4250\",\"type\":\"UnionRenderers\"},{\"attributes\":{\"source\":{\"id\":\"3999\"}},\"id\":\"4003\",\"type\":\"CDSView\"},{\"attributes\":{},\"id\":\"4306\",\"type\":\"UnionRenderers\"},{\"attributes\":{},\"id\":\"3984\",\"type\":\"WheelZoomTool\"},{\"attributes\":{},\"id\":\"4146\",\"type\":\"SaveTool\"},{\"attributes\":{\"overlay\":{\"id\":\"4189\"}},\"id\":\"4185\",\"type\":\"BoxZoomTool\"},{\"attributes\":{},\"id\":\"4007\",\"type\":\"DataRange1d\"},{\"attributes\":{},\"id\":\"3986\",\"type\":\"SaveTool\"},{\"attributes\":{},\"id\":\"4053\",\"type\":\"LinearScale\"},{\"attributes\":{\"axis_label\":\"Actions\",\"formatter\":{\"id\":\"4293\"},\"major_label_overrides\":{\"0.3333333333333333\":\"0\",\"1.0\":\"1\",\"1.6666666666666665\":\"2\"},\"ticker\":{\"id\":\"4197\"}},\"id\":\"4175\",\"type\":\"LinearAxis\"},{\"attributes\":{\"bottom\":{\"value\":0},\"fill_alpha\":{\"value\":0.5},\"fill_color\":{\"value\":\"#1f77b4\"},\"left\":{\"field\":\"left\"},\"line_alpha\":{\"value\":0.5},\"line_color\":{\"value\":\"white\"},\"right\":{\"field\":\"right\"},\"top\":{\"field\":\"top\"}},\"id\":\"4200\",\"type\":\"Quad\"},{\"attributes\":{},\"id\":\"3948\",\"type\":\"HelpTool\"},{\"attributes\":{},\"id\":\"3969\",\"type\":\"DataRange1d\"},{\"attributes\":{},\"id\":\"4303\",\"type\":\"BasicTickFormatter\"},{\"attributes\":{\"toolbar\":{\"id\":\"4309\"},\"toolbar_location\":\"above\"},\"id\":\"4310\",\"type\":\"ToolbarBox\"},{\"attributes\":{},\"id\":\"3944\",\"type\":\"WheelZoomTool\"},{\"attributes\":{},\"id\":\"4144\",\"type\":\"WheelZoomTool\"},{\"attributes\":{\"axis\":{\"id\":\"3979\"},\"dimension\":1,\"ticker\":null},\"id\":\"3982\",\"type\":\"Grid\"},{\"attributes\":{\"axis_label\":\"Actions\",\"formatter\":{\"id\":\"4269\"},\"major_label_overrides\":{\"0.3333333333333333\":\"0\",\"1.0\":\"1\",\"1.6666666666666665\":\"2\"},\"ticker\":{\"id\":\"4077\"}},\"id\":\"4055\",\"type\":\"LinearAxis\"},{\"attributes\":{},\"id\":\"4293\",\"type\":\"BasicTickFormatter\"},{\"attributes\":{},\"id\":\"3940\",\"type\":\"BasicTicker\"},{\"attributes\":{\"ticks\":[0.3333333333333333,1.0,1.6666666666666665]},\"id\":\"4197\",\"type\":\"FixedTicker\"},{\"attributes\":{\"below\":[{\"id\":\"4055\"}],\"center\":[{\"id\":\"4058\"},{\"id\":\"4062\"}],\"left\":[{\"id\":\"4059\"}],\"plot_height\":250,\"plot_width\":250,\"renderers\":[{\"id\":\"4082\"}],\"title\":{\"id\":\"4045\"},\"toolbar\":{\"id\":\"4070\"},\"toolbar_location\":null,\"x_range\":{\"id\":\"4047\"},\"x_scale\":{\"id\":\"4051\"},\"y_range\":{\"id\":\"4049\"},\"y_scale\":{\"id\":\"4053\"}},\"id\":\"4044\",\"subtype\":\"Figure\",\"type\":\"Plot\"},{\"attributes\":{\"data_source\":{\"id\":\"3999\"},\"glyph\":{\"id\":\"4000\"},\"hover_glyph\":null,\"muted_glyph\":null,\"nonselection_glyph\":{\"id\":\"4001\"},\"selection_glyph\":null,\"view\":{\"id\":\"4003\"}},\"id\":\"4002\",\"type\":\"GlyphRenderer\"},{\"attributes\":{},\"id\":\"3943\",\"type\":\"PanTool\"},{\"attributes\":{},\"id\":\"3971\",\"type\":\"LinearScale\"},{\"attributes\":{\"data_source\":{\"id\":\"4079\"},\"glyph\":{\"id\":\"4080\"},\"hover_glyph\":null,\"muted_glyph\":null,\"nonselection_glyph\":{\"id\":\"4081\"},\"selection_glyph\":null,\"view\":{\"id\":\"4083\"}},\"id\":\"4082\",\"type\":\"GlyphRenderer\"},{\"attributes\":{},\"id\":\"4253\",\"type\":\"BasicTickFormatter\"},{\"attributes\":{},\"id\":\"4087\",\"type\":\"DataRange1d\"},{\"attributes\":{},\"id\":\"4129\",\"type\":\"DataRange1d\"},{\"attributes\":{\"data_source\":{\"id\":\"4199\"},\"glyph\":{\"id\":\"4200\"},\"hover_glyph\":null,\"muted_glyph\":null,\"nonselection_glyph\":{\"id\":\"4201\"},\"selection_glyph\":null,\"view\":{\"id\":\"4203\"}},\"id\":\"4202\",\"type\":\"GlyphRenderer\"},{\"attributes\":{\"overlay\":{\"id\":\"3949\"}},\"id\":\"3945\",\"type\":\"BoxZoomTool\"},{\"attributes\":{},\"id\":\"4187\",\"type\":\"ResetTool\"},{\"attributes\":{\"text\":\"obs = [-0.7290147  -0.03171192]\"},\"id\":\"3925\",\"type\":\"Title\"},{\"attributes\":{\"below\":[{\"id\":\"3975\"}],\"center\":[{\"id\":\"3978\"},{\"id\":\"3982\"}],\"left\":[{\"id\":\"3979\"}],\"plot_height\":250,\"plot_width\":250,\"renderers\":[{\"id\":\"4002\"}],\"title\":{\"id\":\"3965\"},\"toolbar\":{\"id\":\"3990\"},\"toolbar_location\":null,\"x_range\":{\"id\":\"3967\"},\"x_scale\":{\"id\":\"3971\"},\"y_range\":{\"id\":\"3969\"},\"y_scale\":{\"id\":\"3973\"}},\"id\":\"3964\",\"subtype\":\"Figure\",\"type\":\"Plot\"},{\"attributes\":{},\"id\":\"4049\",\"type\":\"DataRange1d\"},{\"attributes\":{},\"id\":\"4207\",\"type\":\"DataRange1d\"},{\"attributes\":{},\"id\":\"4060\",\"type\":\"BasicTicker\"},{\"attributes\":{},\"id\":\"3988\",\"type\":\"HelpTool\"},{\"attributes\":{\"bottom_units\":\"screen\",\"fill_alpha\":0.5,\"fill_color\":\"lightgrey\",\"left_units\":\"screen\",\"level\":\"overlay\",\"line_alpha\":1.0,\"line_color\":\"black\",\"line_dash\":[4,4],\"line_width\":2,\"right_units\":\"screen\",\"top_units\":\"screen\"},\"id\":\"4069\",\"type\":\"BoxAnnotation\"},{\"attributes\":{\"bottom\":{\"value\":0},\"fill_alpha\":{\"value\":0.5},\"fill_color\":{\"value\":\"#1f77b4\"},\"left\":{\"field\":\"left\"},\"line_alpha\":{\"value\":0.5},\"line_color\":{\"value\":\"white\"},\"right\":{\"field\":\"right\"},\"top\":{\"field\":\"top\"}},\"id\":\"4160\",\"type\":\"Quad\"},{\"attributes\":{\"axis\":{\"id\":\"3939\"},\"dimension\":1,\"ticker\":null},\"id\":\"3942\",\"type\":\"Grid\"},{\"attributes\":{\"axis_label\":\"Actions\",\"formatter\":{\"id\":\"4261\"},\"major_label_overrides\":{\"0.3333333333333333\":\"0\",\"1.0\":\"1\",\"1.6666666666666665\":\"2\"},\"ticker\":{\"id\":\"4037\"}},\"id\":\"4015\",\"type\":\"LinearAxis\"},{\"attributes\":{},\"id\":\"4093\",\"type\":\"LinearScale\"},{\"attributes\":{\"data\":{\"left\":{\"__ndarray__\":\"AAAAAAAAAABVVVVVVVXlP1VVVVVVVfU/\",\"dtype\":\"float64\",\"order\":\"little\",\"shape\":[3]},\"right\":{\"__ndarray__\":\"VVVVVVVV5T9VVVVVVVX1PwAAAAAAAABA\",\"dtype\":\"float64\",\"order\":\"little\",\"shape\":[3]},\"top\":{\"__ndarray__\":\"TmIQWDm03D/TTWIQWDngPwWBlUOLbOE/\",\"dtype\":\"float64\",\"order\":\"little\",\"shape\":[3]}},\"selected\":{\"id\":\"4289\"},\"selection_policy\":{\"id\":\"4290\"}},\"id\":\"4159\",\"type\":\"ColumnDataSource\"},{\"attributes\":{\"below\":[{\"id\":\"4175\"}],\"center\":[{\"id\":\"4178\"},{\"id\":\"4182\"}],\"left\":[{\"id\":\"4179\"}],\"plot_height\":250,\"plot_width\":250,\"renderers\":[{\"id\":\"4202\"}],\"title\":{\"id\":\"4165\"},\"toolbar\":{\"id\":\"4190\"},\"toolbar_location\":null,\"x_range\":{\"id\":\"4167\"},\"x_scale\":{\"id\":\"4171\"},\"y_range\":{\"id\":\"4169\"},\"y_scale\":{\"id\":\"4173\"}},\"id\":\"4164\",\"subtype\":\"Figure\",\"type\":\"Plot\"},{\"attributes\":{},\"id\":\"4147\",\"type\":\"ResetTool\"},{\"attributes\":{},\"id\":\"4186\",\"type\":\"SaveTool\"},{\"attributes\":{},\"id\":\"4089\",\"type\":\"DataRange1d\"},{\"attributes\":{\"bottom_units\":\"screen\",\"fill_alpha\":0.5,\"fill_color\":\"lightgrey\",\"left_units\":\"screen\",\"level\":\"overlay\",\"line_alpha\":1.0,\"line_color\":\"black\",\"line_dash\":[4,4],\"line_width\":2,\"right_units\":\"screen\",\"top_units\":\"screen\"},\"id\":\"4149\",\"type\":\"BoxAnnotation\"},{\"attributes\":{},\"id\":\"4266\",\"type\":\"UnionRenderers\"},{\"attributes\":{\"bottom\":{\"value\":0},\"fill_alpha\":{\"value\":0.1},\"fill_color\":{\"value\":\"#1f77b4\"},\"left\":{\"field\":\"left\"},\"line_alpha\":{\"value\":0.1},\"line_color\":{\"value\":\"white\"},\"right\":{\"field\":\"right\"},\"top\":{\"field\":\"top\"}},\"id\":\"4001\",\"type\":\"Quad\"},{\"attributes\":{},\"id\":\"4269\",\"type\":\"BasicTickFormatter\"},{\"attributes\":{},\"id\":\"4143\",\"type\":\"PanTool\"},{\"attributes\":{\"text\":\"obs = [-0.6769388   0.06743601]\"},\"id\":\"4085\",\"type\":\"Title\"}],\"root_ids\":[\"4311\"]},\"title\":\"Bokeh Application\",\"version\":\"2.2.3\"}};\n  var render_items = [{\"docid\":\"2328de65-57f6-4f89-a53a-962df35eb566\",\"root_ids\":[\"4311\"],\"roots\":{\"4311\":\"8abf7b29-c185-4772-af74-23f011001068\"}}];\n  root.Bokeh.embed.embed_items_notebook(docs_json, render_items);\n\n  }\n  if (root.Bokeh !== undefined) {\n    embed_document(root);\n  } else {\n    var attempts = 0;\n    var timer = setInterval(function(root) {\n      if (root.Bokeh !== undefined) {\n        clearInterval(timer);\n        embed_document(root);\n      } else {\n        attempts++;\n        if (attempts > 100) {\n          clearInterval(timer);\n          console.log(\"Bokeh: ERROR: Unable to run BokehJS code because BokehJS library is missing\");\n        }\n      }\n    }, 10, root)\n  }\n})(window);",
      "application/vnd.bokehjs_exec.v0+json": ""
     },
     "metadata": {
      "application/vnd.bokehjs_exec.v0+json": {
       "id": "4311"
      }
     }
    }
   ],
   "source": [
    "plot_action_distribution(agent)"
   ]
  },
  {
   "cell_type": "markdown",
   "metadata": {},
   "source": [
    "## 3. Ciclo de Interação Agente-Ambiente\n",
    "\n",
    "Após entender a API do OpenAI Gym e se familiarizar com a interface geral de um agente de RL, estamos pronto para programar o ciclo de interação Agente-Ambiente.\n",
    "\n",
    "Note que tanto o *treinamento* como a *avaliação de performance* de agentes de RL (baseados em simuladores) dependem da coleta de experiências a fim de estimar uma diferentes grandezas que são necessárias nos algoritmos de RL (e.g., retorno de episódios, gradientes de políticas, ...).\n",
    "\n",
    "Esse é o objetivo principal do ciclo de interação com o ambiente: permitir ao agente explorar o ambiente e coletar dados para seu aprendizado.\n",
    "\n",
    "> **Atenção**: Praticamente todos os pacotes de RL disponíveis implementam uma versão desse loop de interação. Dessa forma, independentemente se seu objetivo é desenvolver sua própria biblioteca de RL ou apenas re-utilizar código pré-existente, é importante entender os principais conceitos envolvidos!"
   ]
  },
  {
   "cell_type": "markdown",
   "metadata": {},
   "source": [
    "Nessa seção testaremos a política aleatória em uma outra versão do ambiente MountainCar:"
   ]
  },
  {
   "cell_type": "code",
   "execution_count": 92,
   "metadata": {},
   "outputs": [],
   "source": [
    "env = gym.make(\"MountainCarContinuous-v0\")\n",
    "agent = RandomPolicy(env.observation_space, env.action_space)"
   ]
  },
  {
   "cell_type": "markdown",
   "metadata": {},
   "source": [
    "---\n",
    "\n",
    "**<font color=\"red\">EXERCÍCIO-PROGRAMA 1:</font>**\n",
    "\n",
    "Nesse exercício você deverá utilizar os métodos da API do Gym a fim de permitir que um agente de RL simule um episódio. Complete a função `sample_episode` com seu código e preste atenção para retornar as variáveis definidas na documentação. Caso necessário revise a <a href=\"/lab#1.2-Interface-do-Gym:-métodos-reset(),-step()-e-render()\" target=\"_self\">Seção 1.2</a>.\n",
    "\n",
    ">**Atenção**: Para visualizar o episódio não se esqueça de chamar `env.render()` durante a simulação da trajetória. Use a flag `render` em um *if-statement* do Python para dinamicamente habilitar a visualização. Uma vez que a parte gráfica consome muito tempo, é comum desabilitar a renderização do ambiente durante o treinamento e avaliação de um agente de RL. Além disso, chame `env.close()` ao final do ciclo para fechar a janela de simulação."
   ]
  },
  {
   "cell_type": "code",
   "execution_count": 94,
   "metadata": {},
   "outputs": [],
   "source": [
    "def sample_episode(agent, env, render=False):\n",
    "    \"\"\"\n",
    "    Simula um episódio completo de interação do agente com o ambiente.\n",
    "    \n",
    "    Args:\n",
    "        agent (RLAgent):       agente responsável por retornar ações.\n",
    "        env (gym.Environment): simulador de ambiente do OpenAI Gym.\n",
    "        render (bool):         (opcional) flag para habilitar a renderização do ambiente.\n",
    "        \n",
    "    Return:\n",
    "        (total_reward, episode_length): retorno obtido pelo agente no episódio e\n",
    "        número de passos de decisão realizados no episódio.\n",
    "    \"\"\"\n",
    "    total_reward = 0.0\n",
    "    episode_length = 0\n",
    "\n",
    "    obs = env.reset()\n",
    "    while episode_length < env.spec.max_episode_steps:\n",
    "        if render: env.render()\n",
    "        action = agent.step(obs)\n",
    "        obs, reward, done, _ = env.step(action)\n",
    "        total_reward   += reward\n",
    "        episode_length += 1\n",
    "        if done: break\n",
    "    \n",
    "    env.close()\n",
    "    return total_reward, episode_length\n",
    "    "
   ]
  },
  {
   "cell_type": "markdown",
   "metadata": {},
   "source": [
    "Execute o código abaixo para testar a sua implementação."
   ]
  },
  {
   "cell_type": "code",
   "execution_count": 96,
   "metadata": {},
   "outputs": [
    {
     "output_type": "stream",
     "name": "stdout",
     "text": [
      ""
     ]
    }
   ],
   "source": [
    "total_reward, episode_length = sample_episode(agent, env, render=True)\n",
    "print(f\"return = {total_reward:.4f}, passos de decisão = {episode_length}\\r\", end=\"\")"
   ]
  },
  {
   "cell_type": "markdown",
   "metadata": {},
   "source": [
    "A menos que você tenha tido sorte na simulação, você deve ter observado que o carro nunca chega próximo à linha de chegada. :(\n",
    "\n",
    "Não se preocupe vamos resolver isso nas próximas aulas!"
   ]
  },
  {
   "cell_type": "markdown",
   "metadata": {},
   "source": [
    "---"
   ]
  },
  {
   "cell_type": "markdown",
   "metadata": {},
   "source": [
    "Uma vez implementado a função `sample_episode` você pode amostrar diferentes trajetórias com a função `run` definida abaixo:"
   ]
  },
  {
   "cell_type": "code",
   "execution_count": 98,
   "metadata": {},
   "outputs": [],
   "source": [
    "def run(agent, env, num_episodes):\n",
    "    episode_returns, episode_lengths = [], []\n",
    "\n",
    "    for episode in range(num_episodes):\n",
    "        total_reward, episode_length = sample_episode(agent, env)\n",
    "    \n",
    "        episode_returns.append(total_reward)\n",
    "        episode_lengths.append(episode_length)\n",
    "\n",
    "        if episode % 10 == 0:\n",
    "            print(f\"episode = {episode}, return = {total_reward:.4f}, length = {episode_length}\\r\", end=\"\")\n",
    "\n",
    "    return episode_returns, episode_lengths\n",
    "    "
   ]
  },
  {
   "cell_type": "markdown",
   "metadata": {},
   "source": [
    "Execute o código abaixo para simular `NUM_EPISODES` trajetórias:"
   ]
  },
  {
   "cell_type": "code",
   "execution_count": 100,
   "metadata": {},
   "outputs": [
    {
     "output_type": "stream",
     "name": "stdout",
     "text": []
    },
    {
     "output_type": "display_data",
     "data": {
      "text/html": "\n\n\n\n\n\n  <div class=\"bk-root\" id=\"610a7577-4913-46c1-9130-7e78ae1860c1\" data-root-id=\"5357\"></div>\n"
     },
     "metadata": {}
    },
    {
     "output_type": "display_data",
     "data": {
      "application/javascript": "(function(root) {\n  function embed_document(root) {\n    \n  var docs_json = {\"a3144851-47e9-418d-b424-bc5cdd81a4fe\":{\"roots\":{\"references\":[{\"attributes\":{\"children\":[{\"id\":\"5279\"},{\"id\":\"5318\"}]},\"id\":\"5357\",\"type\":\"Row\"},{\"attributes\":{\"line_alpha\":0.1,\"line_color\":\"#1f77b4\",\"x\":{\"field\":\"x\"},\"y\":{\"field\":\"y\"}},\"id\":\"5314\",\"type\":\"Line\"},{\"attributes\":{\"bottom_units\":\"screen\",\"fill_alpha\":0.5,\"fill_color\":\"lightgrey\",\"left_units\":\"screen\",\"level\":\"overlay\",\"line_alpha\":1.0,\"line_color\":\"black\",\"line_dash\":[4,4],\"line_width\":2,\"right_units\":\"screen\",\"top_units\":\"screen\"},\"id\":\"5343\",\"type\":\"BoxAnnotation\"},{\"attributes\":{\"overlay\":{\"id\":\"5304\"}},\"id\":\"5300\",\"type\":\"BoxZoomTool\"},{\"attributes\":{},\"id\":\"5645\",\"type\":\"UnionRenderers\"},{\"attributes\":{},\"id\":\"5633\",\"type\":\"BasicTickFormatter\"},{\"attributes\":{\"data\":{\"x\":[0,1,2,3,4,5,6,7,8,9,10,11,12,13,14,15,16,17,18,19,20,21,22,23,24,25,26,27,28,29,30,31,32,33,34,35,36,37,38,39,40,41,42,43,44,45,46,47,48,49,50,51,52,53,54,55,56,57,58,59,60,61,62,63,64,65,66,67,68,69,70,71,72,73,74,75,76,77,78,79,80,81,82,83,84,85,86,87,88,89,90,91,92,93,94,95,96,97,98,99,100,101,102,103,104,105,106,107,108,109,110,111,112,113,114,115,116,117,118,119,120,121,122,123,124,125,126,127,128,129,130,131,132,133,134,135,136,137,138,139,140,141,142,143,144,145,146,147,148,149,150,151,152,153,154,155,156,157,158,159,160,161,162,163,164,165,166,167,168,169,170,171,172,173,174,175,176,177,178,179,180,181,182,183,184,185,186,187,188,189,190,191,192,193,194,195,196,197,198,199],\"y\":[-33.054907201476915,-34.18423325459174,-32.303481747867025,-33.40361098995555,-33.7425912909621,-31.686342354972368,-34.51852157864694,-33.85397412556975,-33.15436701567796,-33.836384265817905,-32.00841056449191,-33.284236856103696,-32.84609591545295,-33.303565090732576,-34.11639667197588,-34.55524990115561,-33.26155630436895,-33.40864949539062,-33.48772909669213,-33.15574374988246,-33.0198223041298,-33.059457305190094,-32.87325252061847,-33.70230224254872,-33.95891065396375,-33.38060333283849,-34.18020098685904,-34.040089498757226,-30.912894205289096,-33.060195531131264,-32.386950675321366,-34.085443732615225,-32.203020847600804,-34.13122409414689,-33.033369132096496,-34.79500541210697,-33.06498478079297,-31.837207011597837,-33.19021174919432,-32.24790560566146,-31.950208436814137,-33.99205228621942,-33.84396870227926,-31.448284921170856,-33.10250415064646,-31.25102170129564,-34.51410237535773,-32.75082747204495,-32.40659142225786,-33.335834317309995,-30.77687759941392,-32.83864264216583,-33.700375524766685,-31.420744476396713,-33.88604277985985,-33.3759406202756,-33.761678677626705,-34.80502533077814,-33.71121454187739,-33.392655182635245,-33.56736920521863,-32.03014341710024,-32.091912209706585,-32.377546135518806,-32.23480070341495,-33.33093122476009,-33.79848318354818,-32.741441847138596,-32.173494238251365,-33.61499588157043,-33.129118041045004,-33.21339222102404,-32.98038554052497,-33.158950717925855,-33.25798614686248,-33.4140138437396,-32.9993146467391,-34.268088273592106,-32.708600025626374,-32.36769049782798,-32.51697003417656,-31.112255278178246,-33.00500212697782,-33.74797945465712,-31.453892941553548,-32.49534129800952,-30.939012990715465,-33.14682265420387,-32.067430128711365,-33.35404547326889,-32.67518184546685,-32.75829151229259,-33.46325069965067,-32.47940341977193,-32.70652742866438,-33.91939185354361,-33.039131242412324,-33.689698435364704,-31.995213342984556,-31.901164874377983,-33.23828609022638,-33.89244544086616,-34.33184630501984,-33.75770012257867,-34.66214058437383,-32.531962632663664,-32.739149619409744,-33.369561451115686,-33.42251423445819,-34.880694998889226,-32.06185578504025,-33.30750182569771,-33.90886950081054,-33.96655600638585,-32.425627790088676,-32.720338477849744,-34.35402165909386,-33.125163924704815,-32.46973993400158,-32.24723181404815,-34.46370060654721,-34.480568414542304,-33.3370424970088,-33.35639824579181,-34.246616135918636,-32.295176266812675,-34.0608070664273,-33.98341266926819,-32.04967236852983,-33.6376638563478,-34.46109928920245,-32.294853804453176,-33.31543546540706,-32.84794045014637,-34.7185259913964,-33.73658865676693,-35.20210635468802,-34.173629601398254,-32.81145463250481,-34.06367250982359,-34.49879299694664,-33.76465296004251,-32.813836816882045,-34.40382025856559,-33.03377096921046,-33.83074757693563,-33.34485968024185,-34.23028971241179,-33.22436792781579,-33.71016613023857,-33.47637557297259,-32.96951500388984,-32.177463281190974,-33.715908234598736,-34.00187834274257,-32.04158263218992,-34.42109956342408,-33.15410020328967,-32.779123760299484,-33.06819592652669,-33.832709088187464,-33.7709392910702,-33.408828255440575,-32.27661849207368,-32.41529189130195,-33.166430632530954,-32.854209238845115,-33.00543260579802,-33.36281327377434,-33.637438441306486,-33.86569315247813,-32.57075551368021,-32.741507290560996,-34.78111190507087,-34.19880987249993,-33.20032011266967,-33.94243116727659,-33.45666948603644,-33.5510692963781,-33.283991240218164,-32.37677829276751,-33.88500168497873,-33.94942501037857,-36.14319982654493,-33.28974662479915,-34.136655454653784,-34.786761348688934,-33.96357609316278,-33.392205629578406,-33.14107297781018,-33.02804531737897,-31.987819135576768,-33.2750472448835,-32.97861268974781,-32.10512492900949,-32.17347849669294,-33.00156835028775,-33.50847036717114,-33.721915323618006,-33.90049576108669]},\"selected\":{\"id\":\"5641\"},\"selection_policy\":{\"id\":\"5642\"}},\"id\":\"5312\",\"type\":\"ColumnDataSource\"},{\"attributes\":{},\"id\":\"5330\",\"type\":\"BasicTicker\"},{\"attributes\":{},\"id\":\"5284\",\"type\":\"DataRange1d\"},{\"attributes\":{},\"id\":\"5323\",\"type\":\"DataRange1d\"},{\"attributes\":{},\"id\":\"5303\",\"type\":\"HelpTool\"},{\"attributes\":{\"axis\":{\"id\":\"5333\"},\"dimension\":1,\"ticker\":null},\"id\":\"5336\",\"type\":\"Grid\"},{\"attributes\":{\"bottom_units\":\"screen\",\"fill_alpha\":0.5,\"fill_color\":\"lightgrey\",\"left_units\":\"screen\",\"level\":\"overlay\",\"line_alpha\":1.0,\"line_color\":\"black\",\"line_dash\":[4,4],\"line_width\":2,\"right_units\":\"screen\",\"top_units\":\"screen\"},\"id\":\"5304\",\"type\":\"BoxAnnotation\"},{\"attributes\":{},\"id\":\"5321\",\"type\":\"DataRange1d\"},{\"attributes\":{},\"id\":\"5325\",\"type\":\"LinearScale\"},{\"attributes\":{},\"id\":\"5337\",\"type\":\"PanTool\"},{\"attributes\":{},\"id\":\"5644\",\"type\":\"Selection\"},{\"attributes\":{\"line_color\":\"red\",\"location\":-33.240982743641446},\"id\":\"5317\",\"type\":\"Span\"},{\"attributes\":{\"axis\":{\"id\":\"5329\"},\"ticker\":null},\"id\":\"5332\",\"type\":\"Grid\"},{\"attributes\":{},\"id\":\"5301\",\"type\":\"SaveTool\"},{\"attributes\":{},\"id\":\"5635\",\"type\":\"BasicTickFormatter\"},{\"attributes\":{\"dimension\":\"height\",\"line_color\":\"red\",\"location\":-33.240982743641446},\"id\":\"5356\",\"type\":\"Span\"},{\"attributes\":{},\"id\":\"5340\",\"type\":\"SaveTool\"},{\"attributes\":{\"bottom\":{\"value\":0},\"fill_alpha\":{\"value\":0.5},\"fill_color\":{\"value\":\"#1f77b4\"},\"left\":{\"field\":\"left\"},\"line_alpha\":{\"value\":0.5},\"line_color\":{\"value\":\"white\"},\"right\":{\"field\":\"right\"},\"top\":{\"field\":\"top\"}},\"id\":\"5352\",\"type\":\"Quad\"},{\"attributes\":{\"axis\":{\"id\":\"5290\"},\"ticker\":null},\"id\":\"5293\",\"type\":\"Grid\"},{\"attributes\":{\"overlay\":{\"id\":\"5343\"}},\"id\":\"5339\",\"type\":\"BoxZoomTool\"},{\"attributes\":{\"text\":\"Episode Return (Histogram)\"},\"id\":\"5319\",\"type\":\"Title\"},{\"attributes\":{},\"id\":\"5341\",\"type\":\"ResetTool\"},{\"attributes\":{\"bottom\":{\"value\":0},\"fill_alpha\":{\"value\":0.1},\"fill_color\":{\"value\":\"#1f77b4\"},\"left\":{\"field\":\"left\"},\"line_alpha\":{\"value\":0.1},\"line_color\":{\"value\":\"white\"},\"right\":{\"field\":\"right\"},\"top\":{\"field\":\"top\"}},\"id\":\"5353\",\"type\":\"Quad\"},{\"attributes\":{\"below\":[{\"id\":\"5329\"}],\"center\":[{\"id\":\"5332\"},{\"id\":\"5336\"}],\"left\":[{\"id\":\"5333\"}],\"plot_height\":350,\"plot_width\":500,\"renderers\":[{\"id\":\"5354\"},{\"id\":\"5356\"}],\"title\":{\"id\":\"5319\"},\"toolbar\":{\"id\":\"5344\"},\"toolbar_location\":\"above\",\"x_range\":{\"id\":\"5321\"},\"x_scale\":{\"id\":\"5325\"},\"y_range\":{\"id\":\"5323\"},\"y_scale\":{\"id\":\"5327\"}},\"id\":\"5318\",\"subtype\":\"Figure\",\"type\":\"Plot\"},{\"attributes\":{\"data_source\":{\"id\":\"5351\"},\"glyph\":{\"id\":\"5352\"},\"hover_glyph\":null,\"muted_glyph\":null,\"nonselection_glyph\":{\"id\":\"5353\"},\"selection_glyph\":null,\"view\":{\"id\":\"5355\"}},\"id\":\"5354\",\"type\":\"GlyphRenderer\"},{\"attributes\":{\"data_source\":{\"id\":\"5312\"},\"glyph\":{\"id\":\"5313\"},\"hover_glyph\":null,\"muted_glyph\":null,\"nonselection_glyph\":{\"id\":\"5314\"},\"selection_glyph\":null,\"view\":{\"id\":\"5316\"}},\"id\":\"5315\",\"type\":\"GlyphRenderer\"},{\"attributes\":{\"active_drag\":\"auto\",\"active_inspect\":\"auto\",\"active_multi\":null,\"active_scroll\":\"auto\",\"active_tap\":\"auto\",\"tools\":[{\"id\":\"5298\"},{\"id\":\"5299\"},{\"id\":\"5300\"},{\"id\":\"5301\"},{\"id\":\"5302\"},{\"id\":\"5303\"}]},\"id\":\"5305\",\"type\":\"Toolbar\"},{\"attributes\":{\"text\":\"Episode Return\"},\"id\":\"5280\",\"type\":\"Title\"},{\"attributes\":{},\"id\":\"5334\",\"type\":\"BasicTicker\"},{\"attributes\":{\"axis\":{\"id\":\"5294\"},\"dimension\":1,\"ticker\":null},\"id\":\"5297\",\"type\":\"Grid\"},{\"attributes\":{\"source\":{\"id\":\"5351\"}},\"id\":\"5355\",\"type\":\"CDSView\"},{\"attributes\":{},\"id\":\"5338\",\"type\":\"WheelZoomTool\"},{\"attributes\":{\"active_drag\":\"auto\",\"active_inspect\":\"auto\",\"active_multi\":null,\"active_scroll\":\"auto\",\"active_tap\":\"auto\",\"tools\":[{\"id\":\"5337\"},{\"id\":\"5338\"},{\"id\":\"5339\"},{\"id\":\"5340\"},{\"id\":\"5341\"},{\"id\":\"5342\"}]},\"id\":\"5344\",\"type\":\"Toolbar\"},{\"attributes\":{\"below\":[{\"id\":\"5290\"}],\"center\":[{\"id\":\"5293\"},{\"id\":\"5297\"}],\"left\":[{\"id\":\"5294\"}],\"plot_height\":350,\"plot_width\":500,\"renderers\":[{\"id\":\"5315\"},{\"id\":\"5317\"}],\"title\":{\"id\":\"5280\"},\"toolbar\":{\"id\":\"5305\"},\"toolbar_location\":\"above\",\"x_range\":{\"id\":\"5282\"},\"x_scale\":{\"id\":\"5286\"},\"y_range\":{\"id\":\"5284\"},\"y_scale\":{\"id\":\"5288\"}},\"id\":\"5279\",\"subtype\":\"Figure\",\"type\":\"Plot\"},{\"attributes\":{\"axis_label\":\"Total Reward\",\"formatter\":{\"id\":\"5637\"},\"ticker\":{\"id\":\"5330\"}},\"id\":\"5329\",\"type\":\"LinearAxis\"},{\"attributes\":{},\"id\":\"5299\",\"type\":\"WheelZoomTool\"},{\"attributes\":{},\"id\":\"5642\",\"type\":\"UnionRenderers\"},{\"attributes\":{},\"id\":\"5291\",\"type\":\"BasicTicker\"},{\"attributes\":{},\"id\":\"5298\",\"type\":\"PanTool\"},{\"attributes\":{},\"id\":\"5327\",\"type\":\"LinearScale\"},{\"attributes\":{},\"id\":\"5641\",\"type\":\"Selection\"},{\"attributes\":{\"line_color\":\"#1f77b4\",\"x\":{\"field\":\"x\"},\"y\":{\"field\":\"y\"}},\"id\":\"5313\",\"type\":\"Line\"},{\"attributes\":{\"source\":{\"id\":\"5312\"}},\"id\":\"5316\",\"type\":\"CDSView\"},{\"attributes\":{},\"id\":\"5286\",\"type\":\"LinearScale\"},{\"attributes\":{},\"id\":\"5342\",\"type\":\"HelpTool\"},{\"attributes\":{},\"id\":\"5639\",\"type\":\"BasicTickFormatter\"},{\"attributes\":{},\"id\":\"5295\",\"type\":\"BasicTicker\"},{\"attributes\":{},\"id\":\"5302\",\"type\":\"ResetTool\"},{\"attributes\":{\"axis_label\":\"Episodes\",\"formatter\":{\"id\":\"5633\"},\"ticker\":{\"id\":\"5291\"}},\"id\":\"5290\",\"type\":\"LinearAxis\"},{\"attributes\":{},\"id\":\"5637\",\"type\":\"BasicTickFormatter\"},{\"attributes\":{\"axis_label\":\"Total Reward\",\"formatter\":{\"id\":\"5635\"},\"ticker\":{\"id\":\"5295\"}},\"id\":\"5294\",\"type\":\"LinearAxis\"},{\"attributes\":{},\"id\":\"5288\",\"type\":\"LinearScale\"},{\"attributes\":{},\"id\":\"5282\",\"type\":\"DataRange1d\"},{\"attributes\":{\"formatter\":{\"id\":\"5639\"},\"ticker\":{\"id\":\"5334\"}},\"id\":\"5333\",\"type\":\"LinearAxis\"},{\"attributes\":{\"data\":{\"left\":{\"__ndarray__\":\"1OY1X1QSQsCYP71/lwRCwFyYRKDa9kHAIfHLwB3pQcDlSVPhYNtBwKmi2gGkzUHAbfthIue/QcAyVOlCKrJBwPascGNtpEHAugX4g7CWQcB+Xn+k84hBwEO3BsU2e0HABxCO5XltQcDLaBUGvV9BwI/BnCYAUkHAUxokR0NEQcAYc6tnhjZBwNzLMojJKEHAoCS6qAwbQcBkfUHJTw1BwCnWyOmS/0DA7S5QCtbxQMCxh9cqGeRAwHXgXktc1kDAOjnma5/IQMD+kW2M4rpAwMLq9KwlrUDAhkN8zWifQMBKnAPuq5FAwA/1ig7vg0DA000SLzJ2QMCXpplPdWhAwFv/IHC4WkDAIFiokPtMQMDksC+xPj9AwKgJt9GBMUDAbGI+8sQjQMAwu8USCBZAwPUTTTNLCEDActmopxz1P8D6irfootk/wIM8xikpvj/AC+7Uaq+iP8CUn+OrNYc/wBxR8uy7az/ApQIBLkJQP8AttA9vyDQ/wLZlHrBOGT/APhct8dT9PsDGyDsyW+I+wA==\",\"dtype\":\"float64\",\"order\":\"little\",\"shape\":[50]},\"right\":{\"__ndarray__\":\"mD+9f5cEQsBcmESg2vZBwCHxy8Ad6UHA5UlT4WDbQcCpotoBpM1BwG37YSLnv0HAMlTpQiqyQcD2rHBjbaRBwLoF+IOwlkHAfl5/pPOIQcBDtwbFNntBwAcQjuV5bUHAy2gVBr1fQcCPwZwmAFJBwFMaJEdDREHAGHOrZ4Y2QcDcyzKIyShBwKAkuqgMG0HAZH1ByU8NQcAp1sjpkv9AwO0uUArW8UDAsYfXKhnkQMB14F5LXNZAwDo55mufyEDA/pFtjOK6QMDC6vSsJa1AwIZDfM1on0DASpwD7quRQMAP9YoO74NAwNNNEi8ydkDAl6aZT3VoQMBb/yBwuFpAwCBYqJD7TEDA5LAvsT4/QMCoCbfRgTFAwGxiPvLEI0DAMLvFEggWQMD1E00zSwhAwHLZqKcc9T/A+oq36KLZP8CDPMYpKb4/wAvu1Gqvoj/AlJ/jqzWHP8AcUfLsu2s/wKUCAS5CUD/ALbQPb8g0P8C2ZR6wThk/wD4XLfHU/T7Axsg7MlviPsBPekpz4cY+wA==\",\"dtype\":\"float64\",\"order\":\"little\",\"shape\":[50]},\"top\":{\"__ndarray__\":\"xjp6/Drapz8AAAAAAAAAAAAAAAAAAAAAAAAAAAAAAAAAAAAAAAAAAAAAAAAAAAAAAAAAAAAAAAAAAAAAAAAAAMY6evw62qc/AAAAAAAAAAAAAAAAAAAAAMY6evw62qc/xjp6/Draxz/GOnr8Otq3P8Y6evw62qc/Yq1bPazj0T/GOnr8OtrHPxSsWz2s48E/bvPqnPPe1D+ky5i7ydDNP2gIlI0IZuA/H4IJXILV2j9u8+qc897kP4M8evw62sc/eMmYu8nQzT9u8+qc897kP8FPI+1PYeM/FKxbPazj4T+aCZSNCGbgPx+CCVyC1do/eMmYu8nQzT8fgglcgtXaP2KtWz2s48E/xjp6/Draxz8UrFs9rOPRPxSsWz2s49E/xjp6/Dra1z9irVs9rOPBP27z6pzz3tQ/xjp6/Dratz+lO3r8OtqnP8Y6evw62qc/AAAAAAAAAADGOnr8Otq3P6U7evw62qc/xjp6/Drapz+lO3r8OtqnPwAAAAAAAAAAxjp6/Dratz+lO3r8OtqnPw==\",\"dtype\":\"float64\",\"order\":\"little\",\"shape\":[50]}},\"selected\":{\"id\":\"5644\"},\"selection_policy\":{\"id\":\"5645\"}},\"id\":\"5351\",\"type\":\"ColumnDataSource\"}],\"root_ids\":[\"5357\"]},\"title\":\"Bokeh Application\",\"version\":\"2.2.3\"}};\n  var render_items = [{\"docid\":\"a3144851-47e9-418d-b424-bc5cdd81a4fe\",\"root_ids\":[\"5357\"],\"roots\":{\"5357\":\"610a7577-4913-46c1-9130-7e78ae1860c1\"}}];\n  root.Bokeh.embed.embed_items_notebook(docs_json, render_items);\n\n  }\n  if (root.Bokeh !== undefined) {\n    embed_document(root);\n  } else {\n    var attempts = 0;\n    var timer = setInterval(function(root) {\n      if (root.Bokeh !== undefined) {\n        clearInterval(timer);\n        embed_document(root);\n      } else {\n        attempts++;\n        if (attempts > 100) {\n          clearInterval(timer);\n          console.log(\"Bokeh: ERROR: Unable to run BokehJS code because BokehJS library is missing\");\n        }\n      }\n    }, 10, root)\n  }\n})(window);",
      "application/vnd.bokehjs_exec.v0+json": ""
     },
     "metadata": {
      "application/vnd.bokehjs_exec.v0+json": {
       "id": "5357"
      }
     }
    }
   ],
   "source": [
    "NUM_EPISODES = 200\n",
    "\n",
    "episode_returns, episode_lengths = run(agent, env, NUM_EPISODES)\n",
    "\n",
    "plot_episode_total_rewards(episode_returns)"
   ]
  },
  {
   "cell_type": "markdown",
   "metadata": {},
   "source": [
    "> **Atenção**: se você obteve um pico de retorno com um valor positivo (i.e., *outlier*), execute novamente a simulação. Caso contrário, você deve ter obtido um retorno médio (vide linha vermelha) entre -34 e -33 para `NUM_EPISODES==200`."
   ]
  },
  {
   "cell_type": "markdown",
   "metadata": {},
   "source": [
    "---\n",
    "\n",
    "**<font color=\"red\">QUESTÕES:</font>**\n",
    "\n",
    "1. Qual a diferença entre o ambiente `MountainCar-v0` utilizado como exemplo na <a href=\"/lab#1.-Ambientes-no-OpenAI-Gym\" target=\"_self\">Seção 1</a> e o ambiente `MountainCarContinuous-v0` que você acabou de simular?\n",
    "2. Como você interpreta os gráficos acima `Episode Return` e `Episode Return (Histogram)` ? Como você explicaria essas variações ruidosas da recompensa total?\n",
    "3. Se você executar a simulação várias vezes, obterá resultados ligeiramente diferentes? Ao que se deve essa incerteza nos resultados?\n",
    "4. Você diria que o agente aleatório obteve uma boa performance? *Dica*: relacione os resultados obtidos com a especificação do ambiente `MountainCarContinuous-v0` (e.g., `env.spec`).\n",
    "5. Note que durante a simulação o `Episode Length` se manteve constante ao longo dos episódios. O que isso significa do ponto de vista da tarefa de RL?"
   ]
  },
  {
   "source": [
    "**<font color=\"red\">RESPOSTAS:</font>**\n",
    "\n",
    "1. No ambiente `MountainCar-v0`, o conjunto de ações é discreto, sendo um `int` entre `0` e `2`. Já no ambiente `MountainCarContinuous-v0`, o conjunto de ações é contínuo, sendo um `float32` entre `-1.` e `1.`.\n",
    "2. O gráfico `Episode Return` mostra a recompensa total do $n$-ésimo episódio em função de $n$, enquanto o gráfico `Episode Return (Histogram)` mostra a frequência de um dado valor para a recompensa total. Os gráficos são ruidosos devido à aleatoriedade em cada episódio.\n",
    "3. Sim, já que tanto o ambiente quando a política são estocásticos.\n",
    "4. Não, pois a recompensa total média (cerca de -33) está bem abaixo da recompensa total desejada (90, já que este é o valor de `env.spec.reward_threshold`).\n",
    "5. Isso indica que os episódios só acabam quando o número de _timesteps_ máximo (999, já que este é o valor de `env.spec.max_episode_steps`), e não quando o nosso agente atinge algum estado terminal, como chegar na bandeirinha."
   ],
   "cell_type": "markdown",
   "metadata": {}
  }
 ],
 "metadata": {
  "kernelspec": {
   "display_name": "curso-verao-rl-ime-2021",
   "language": "python",
   "name": "curso-verao-rl-ime-2021"
  },
  "language_info": {
   "codemirror_mode": {
    "name": "ipython",
    "version": 3
   },
   "file_extension": ".py",
   "mimetype": "text/x-python",
   "name": "python",
   "nbconvert_exporter": "python",
   "pygments_lexer": "ipython3",
   "version": "3.7.9-final"
  }
 },
 "nbformat": 4,
 "nbformat_minor": 4
}